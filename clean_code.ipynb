{
 "cells": [
  {
   "cell_type": "code",
   "execution_count": 1,
   "metadata": {
    "collapsed": true
   },
   "outputs": [],
   "source": [
    "\n",
    "# 가장 큰 수\n",
    "# 큰 수를 할당해야 할 때,\n",
    "\n",
    "max_val = float('inf')"
   ]
  },
  {
   "cell_type": "code",
   "execution_count": 2,
   "outputs": [],
   "source": [
    "max_val = float('-inf')"
   ],
   "metadata": {
    "collapsed": false,
    "pycharm": {
     "name": "#%%\n"
    }
   }
  },
  {
   "cell_type": "code",
   "execution_count": 3,
   "outputs": [
    {
     "name": "stdout",
     "output_type": "stream",
     "text": [
      "(1, 2)\n",
      "(1, 2)\n"
     ]
    }
   ],
   "source": [
    "\n",
    "# 인스턴스 출력 형식을 지정하는 방법\n",
    "\n",
    "\n",
    "# 이번 강의에서는 인스턴스 출력 형식을 지정하는 방법을 배워봅시다.\n",
    "#\n",
    "# 예) 2차원 평면 위의 점을 나타내는 Coord 클래스의 인스턴스를 (x 값, y 값)으로 출력하기\n",
    "#\n",
    "# 다른 언어에서는..(또는 이 기능을 모르시는 분은)\n",
    "# 보통 사람들은 클래스 바깥에 출력 함수를 만들거나, print 문 안에서 format을 지정합니다.\n",
    "\n",
    "\n",
    "class Coord(object):\n",
    "    def __init__(self, x, y):\n",
    "        self.x, self.y = x, y\n",
    "\n",
    "point = Coord(1, 2)\n",
    "print( '({}, {})'.format(point.x, point.y) )\n",
    "\n",
    "# 또는\n",
    "def print_coord(coord):\n",
    "    print( '({}, {})'.format(coord.x, coord.y) )\n",
    "print_coord(point)"
   ],
   "metadata": {
    "collapsed": false,
    "pycharm": {
     "name": "#%%\n"
    }
   }
  },
  {
   "cell_type": "code",
   "execution_count": 5,
   "outputs": [],
   "source": [
    "#파이썬에서는\n",
    "#파이썬에서는 __str__ 메소드를 사용해 class 내부에서 출력 format을 지정할 수 있습니다.\n",
    "\n",
    "\n",
    "\n",
    "class Coord(object):\n",
    "    def __init__(self, x ,y):\n",
    "        self.x, self.y = x, y\n",
    "\n",
    "    def __str__(self):\n",
    "        return '({}, {})'.format(self.x, self.y)"
   ],
   "metadata": {
    "collapsed": false,
    "pycharm": {
     "name": "#%%\n"
    }
   }
  },
  {
   "cell_type": "code",
   "execution_count": 10,
   "outputs": [],
   "source": [
    "point = Coord(1,2)"
   ],
   "metadata": {
    "collapsed": false,
    "pycharm": {
     "name": "#%%\n"
    }
   }
  },
  {
   "cell_type": "code",
   "execution_count": 15,
   "outputs": [
    {
     "name": "stdout",
     "output_type": "stream",
     "text": [
      "(1, 2)\n"
     ]
    }
   ],
   "source": [
    "# __str__ 메서드로 인하여 class 내부에 출력할때의 format 을 지정해놓은 것임\n",
    "print(point)"
   ],
   "metadata": {
    "collapsed": false,
    "pycharm": {
     "name": "#%%\n"
    }
   }
  },
  {
   "cell_type": "code",
   "execution_count": 16,
   "outputs": [],
   "source": [
    "# 이진 탐색\n",
    "def bisect(a, x, lo=0, hi=None):\n",
    "    if lo <0:\n",
    "        raise ValueError('lo must be non-negative')\n",
    "    if hi is None:\n",
    "        hi = len(a)\n",
    "    while lo < hi: # low 가 high 보다 작을 때 high 와 같은 값이 될 때까지 반복한다\n",
    "        mid = (lo + hi) // 2 # 매 반복 시 마다 최초 한 번 mid 값을 계산\n",
    "        if a[mid] < x: # mid index 에 있는 값이 타겟 값보다 작다면\n",
    "            lo = mid + 1 # 좁혀나가기 위해 low를 mid 값보다 한 칸 올린다\n",
    "        else:\n",
    "            hi = mid  # mid index에 있는 값이 타겟 값보다 크다면 , high값을 mid 값으로 지정해서 좁혀 나간다\n",
    "    return lo"
   ],
   "metadata": {
    "collapsed": false,
    "pycharm": {
     "name": "#%%\n"
    }
   }
  },
  {
   "cell_type": "code",
   "execution_count": null,
   "outputs": [],
   "source": [
    "# low high 를 조정 해 나가면서 x 값을 찾는다"
   ],
   "metadata": {
    "collapsed": false,
    "pycharm": {
     "name": "#%%\n"
    }
   }
  },
  {
   "cell_type": "code",
   "execution_count": 17,
   "outputs": [],
   "source": [
    "mylist = [1,2,3,7,9,11,33]"
   ],
   "metadata": {
    "collapsed": false,
    "pycharm": {
     "name": "#%%\n"
    }
   }
  },
  {
   "cell_type": "code",
   "execution_count": 19,
   "outputs": [
    {
     "name": "stdout",
     "output_type": "stream",
     "text": [
      "2\n"
     ]
    }
   ],
   "source": [
    "print(bisect(mylist,3))"
   ],
   "metadata": {
    "collapsed": false,
    "pycharm": {
     "name": "#%%\n"
    }
   }
  },
  {
   "cell_type": "code",
   "execution_count": 21,
   "outputs": [],
   "source": [
    "### 우측 정렬 예\n",
    "s =  '가나다라'\n",
    "n = 7\n",
    "answer = ''\n",
    "\n",
    "for i in range(n-len(s)): # 문자열의 앞을 빈 문자열로 채우는 for 문\n",
    "    answer += ' '\n",
    "answer += s"
   ],
   "metadata": {
    "collapsed": false,
    "pycharm": {
     "name": "#%%\n"
    }
   }
  },
  {
   "cell_type": "code",
   "execution_count": 22,
   "outputs": [
    {
     "data": {
      "text/plain": "'   가나다라'"
     },
     "execution_count": 22,
     "metadata": {},
     "output_type": "execute_result"
    }
   ],
   "source": [
    "answer\n"
   ],
   "metadata": {
    "collapsed": false,
    "pycharm": {
     "name": "#%%\n"
    }
   }
  },
  {
   "cell_type": "code",
   "execution_count": 23,
   "outputs": [
    {
     "data": {
      "text/plain": "'가나다라   '"
     },
     "execution_count": 23,
     "metadata": {},
     "output_type": "execute_result"
    }
   ],
   "source": [
    "s = '가나다라'\n",
    "n = 7\n",
    "s.ljust(n)"
   ],
   "metadata": {
    "collapsed": false,
    "pycharm": {
     "name": "#%%\n"
    }
   }
  },
  {
   "cell_type": "code",
   "execution_count": 24,
   "outputs": [
    {
     "data": {
      "text/plain": "'  가나다라 '"
     },
     "execution_count": 24,
     "metadata": {},
     "output_type": "execute_result"
    }
   ],
   "source": [
    "s.center(n)"
   ],
   "metadata": {
    "collapsed": false,
    "pycharm": {
     "name": "#%%\n"
    }
   }
  },
  {
   "cell_type": "code",
   "execution_count": 25,
   "outputs": [
    {
     "data": {
      "text/plain": "'   가나다라'"
     },
     "execution_count": 25,
     "metadata": {},
     "output_type": "execute_result"
    }
   ],
   "source": [
    "s.rjust(n)"
   ],
   "metadata": {
    "collapsed": false,
    "pycharm": {
     "name": "#%%\n"
    }
   }
  },
  {
   "cell_type": "code",
   "execution_count": 29,
   "outputs": [],
   "source": [
    "a= [[1,2,3]\n",
    " ,[4,5,6]\n",
    " ,[7,8,9]]"
   ],
   "metadata": {
    "collapsed": false,
    "pycharm": {
     "name": "#%%\n"
    }
   }
  },
  {
   "cell_type": "code",
   "execution_count": 41,
   "outputs": [
    {
     "data": {
      "text/plain": "[[[1, 2, 3]], [[4, 5, 6]], [[7, 8, 9]]]"
     },
     "execution_count": 41,
     "metadata": {},
     "output_type": "execute_result"
    }
   ],
   "source": [
    "# 압축\n",
    "\n",
    "\"\"\n",
    "\n",
    "\"\"\"\n",
    "p여러 인수가 함께 압축되기를 원하지만\n",
    "당신이 가지고 있는 것은 단일 인수(요소도 목록인 목록)입니다.\n",
    "함수 호출 에서 *목록(또는 다른 반복 가능)을 \"압축 해제\"하여 각 요소를 별도의 인수로 만듭니다.\n",
    "그래서 *, 당신 은 하고 zip( [[1,2,3],[4,5,6]] )있습니다 . 로\n",
    "*, 당신 은 하고 zip([1,2,3], [4,5,6])있습니다\n",
    "\"\"\"\n",
    "# zip 은 합\n",
    "# 행과열을 뒤바꾸기\n",
    "# zip(* 요소별로 압축)\n",
    "list(map(list,zip(a)))"
   ],
   "metadata": {
    "collapsed": false,
    "pycharm": {
     "name": "#%%\n"
    }
   }
  },
  {
   "cell_type": "code",
   "execution_count": 45,
   "outputs": [
    {
     "data": {
      "text/plain": "[([1, 2, 3],), ([4, 5, 6],), ([7, 8, 9],)]"
     },
     "execution_count": 45,
     "metadata": {},
     "output_type": "execute_result"
    }
   ],
   "source": [
    "b = [1,2]\n",
    "# 하나만 넣을 경우\n",
    "# 여러 인수가 함께 압축되어야 하지만 하나만 넣는 경우\n",
    "# 짝이 없으니 , 뒤에는 비어있다\n",
    "list(zip(a))"
   ],
   "metadata": {
    "collapsed": false,
    "pycharm": {
     "name": "#%%\n"
    }
   }
  },
  {
   "cell_type": "code",
   "execution_count": null,
   "outputs": [],
   "source": [
    "# 리스트 를 요소로 보고\n",
    "list(zip(a,b))"
   ],
   "metadata": {
    "collapsed": false,
    "pycharm": {
     "name": "#%%\n"
    }
   }
  },
  {
   "cell_type": "code",
   "execution_count": null,
   "outputs": [],
   "source": [
    "#\n",
    "# 그게 아니라 각 리스트의 요소 하나하나를 인자로 사용하고싶을때 (그러면 ,2번째 요소로 b를 넣지 않아도\n",
    "#  각 리스트의 하나하나가 들어가는것이다\n",
    "#example ) a= [[1,2,3](a1)\n",
    "              ,[4,5,6](a2)\n",
    "              ,[7,8,9](a3)]\n",
    "\n",
    "list(zip(*a))-> list(zip(a1,a2,a3))"
   ],
   "metadata": {
    "collapsed": false,
    "pycharm": {
     "name": "#%%\n"
    }
   }
  },
  {
   "cell_type": "code",
   "execution_count": null,
   "outputs": [],
   "source": [],
   "metadata": {
    "collapsed": false,
    "pycharm": {
     "name": "#%%\n"
    }
   }
  }
 ],
 "metadata": {
  "kernelspec": {
   "display_name": "Python 3",
   "language": "python",
   "name": "python3"
  },
  "language_info": {
   "codemirror_mode": {
    "name": "ipython",
    "version": 2
   },
   "file_extension": ".py",
   "mimetype": "text/x-python",
   "name": "python",
   "nbconvert_exporter": "python",
   "pygments_lexer": "ipython2",
   "version": "2.7.6"
  }
 },
 "nbformat": 4,
 "nbformat_minor": 0
}