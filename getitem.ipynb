{
 "cells": [
  {
   "cell_type": "code",
   "execution_count": 1,
   "metadata": {
    "collapsed": true,
    "pycharm": {
     "name": "#%%\n"
    }
   },
   "outputs": [
    {
     "ename": "IndentationError",
     "evalue": "expected an indented block (<ipython-input-1-b1d548dfdcbf>, line 9)",
     "output_type": "error",
     "traceback": [
      "\u001B[1;36m  File \u001B[1;32m\"<ipython-input-1-b1d548dfdcbf>\"\u001B[1;36m, line \u001B[1;32m9\u001B[0m\n\u001B[1;33m    def dfs(queue,characterX,characterY)\u001B[0m\n\u001B[1;37m    ^\u001B[0m\n\u001B[1;31mIndentationError\u001B[0m\u001B[1;31m:\u001B[0m expected an indented block\n"
     ]
    }
   ],
   "source": [
    "from collections import deque\n",
    "\n",
    "def solution(rectangle, characterX, characterY, itemX, itemY):\n",
    "\n",
    "\n"
   ]
  },
  {
   "cell_type": "code",
   "execution_count": null,
   "outputs": [],
   "source": [],
   "metadata": {
    "collapsed": false,
    "pycharm": {
     "name": "#%%\n"
    }
   }
  },
  {
   "cell_type": "code",
   "execution_count": null,
   "outputs": [],
   "source": [
    "    # 현재 좌표가 어느 사각형위에 있다면\n",
    "\n",
    "\n",
    "def dfs(queue,characterX,characterY)"
   ],
   "metadata": {
    "collapsed": false,
    "pycharm": {
     "name": "#%%\n"
    }
   }
  },
  {
   "cell_type": "code",
   "execution_count": null,
   "outputs": [],
   "source": [
    "import numpy as np"
   ],
   "metadata": {
    "collapsed": false,
    "pycharm": {
     "name": "#%%\n"
    }
   }
  },
  {
   "cell_type": "code",
   "execution_count": 2,
   "outputs": [
    {
     "ename": "NameError",
     "evalue": "name 'np' is not defined",
     "output_type": "error",
     "traceback": [
      "\u001B[1;31m---------------------------------------------------------------------------\u001B[0m",
      "\u001B[1;31mNameError\u001B[0m                                 Traceback (most recent call last)",
      "\u001B[1;32m<ipython-input-2-4016fe329f45>\u001B[0m in \u001B[0;36m<module>\u001B[1;34m\u001B[0m\n\u001B[1;32m----> 1\u001B[1;33m \u001B[0mnp\u001B[0m\u001B[1;33m.\u001B[0m\u001B[0mrandom\u001B[0m\u001B[1;33m.\u001B[0m\u001B[0mseed\u001B[0m\u001B[1;33m(\u001B[0m\u001B[1;36m42\u001B[0m\u001B[1;33m)\u001B[0m\u001B[1;33m\u001B[0m\u001B[1;33m\u001B[0m\u001B[0m\n\u001B[0m",
      "\u001B[1;31mNameError\u001B[0m: name 'np' is not defined"
     ]
    }
   ],
   "source": [
    "np.random.seed(42)"
   ],
   "metadata": {
    "collapsed": false,
    "pycharm": {
     "name": "#%%\n"
    }
   }
  },
  {
   "cell_type": "code",
   "execution_count": null,
   "outputs": [],
   "source": [
    "import random\n",
    "random.seed(42)\n"
   ],
   "metadata": {
    "collapsed": false,
    "pycharm": {
     "name": "#%%\n"
    }
   }
  },
  {
   "cell_type": "code",
   "execution_count": null,
   "outputs": [],
   "source": [
    "def solution(rectangle, characterX, characterY, itemX, itemY):\n",
    "\n",
    "```\n",
    "while\n",
    "\n",
    "    if  (characterX,characterY)== (itemX,itemY):\n",
    "        break\n",
    "    bfs(c_x+1,c_y)\n",
    "    bfs(c_x-1,c_y)\n",
    "    bfs(c_x,c_y+1)\n",
    "    bfs(c_x,c_y+-1)\n",
    "\n",
    "```\n",
    "\n",
    "# 동시에 탐색해나가면서\n",
    "\n",
    "def bfs(square, c_x,c_y):\n",
    "\n",
    "```\n",
    "    i\n",
    "# x 좌표가 범위를 벗어나면 out\n",
    "if c_x not in square[0] or c_x not in square[2]:\n",
    "    return\n",
    "if c_y not in square[1] or c_y not in square[3]:\n",
    "    return\n",
    "\n",
    "# 각각의 모서리에 도달한 경우\n",
    "# 오른쪽으로 직진\n",
    "# 진행방향의 수직으로 길이 있다면 그곳으로간다\n",
    "#\n",
    "\n",
    "```\n",
    "\n",
    "신경쓰면서 하나하나 원시적으로 접근한 풀이\n",
    "\n",
    "def solution(rectangle, characterX, characterY, itemX, itemY):\n",
    "\n",
    "```\n",
    "answer = 0\n",
    "\n",
    "# 변이 겹치는 경우가 없으니까 우선 첫번째부터 찾자\n",
    "\n",
    "curr_step = (characterX, characterY)\n",
    "\n",
    "# x좌표가 같은 경우면 위아래로 움직이고\n",
    "# y좌표가 같은 경우라면 좌우로 움직인다\n",
    "for square in rectangle:\n",
    "    # 해당 사각형의 왼쪽 테두리에 있는 경우\n",
    "    if start[0] == square[0]:\n",
    "        curr_node,position = square,'left'\n",
    "        break\n",
    "    # 해당 사각형의 오른쪽 테두리에 있는 경우\n",
    "    if start[0] == square[2]:\n",
    "        curr_node,position = square, 'right'\n",
    "        break\n",
    "    # 해당 사각형의 아래쪽 테두리에 있는 경우\n",
    "    if start[1] == square[1]:\n",
    "        curr_node,position = square, 'bottom'\n",
    "        break\n",
    "    if start[1] == square[1]:\n",
    "        curr_node,position = square, 'up'\n",
    "        break\n",
    "# item 을 못줬다면 계속 반복한다\n",
    "while curr_step != (itemX,itemY):\n",
    "\n",
    "    if position == 'left':\n",
    "        if curr_step[1] != curr_node\n",
    "        curr_step[1] +=1\n",
    "\n",
    "    if curr_step[0] == square[0]:\n",
    "            curr_square = square\n",
    "            # 좌측상단 꼭짓점까지 올라간다\n",
    "            while curr_step[0] != square[4]\n",
    "                # 이 때 다른 사각형의 아랫변을 만난다면\n",
    "                if curr_step[0]\n",
    "                curr_step[0] +=1\n",
    "\n",
    "    if (characterX,characterY) == (itemX, itemY):\n",
    "        return answer\n",
    "\n",
    "    return answer\n",
    "\n",
    "```\n",
    "\n",
    "```\n",
    "\n",
    "```\n",
    "\n",
    "2시간넘게 지나 더이상은 의미없다생각하고 더는 생각이 안되서 ,"
   ],
   "metadata": {
    "collapsed": false,
    "pycharm": {
     "name": "#%%\n"
    }
   }
  }
 ],
 "metadata": {
  "kernelspec": {
   "display_name": "Python 3",
   "language": "python",
   "name": "python3"
  },
  "language_info": {
   "codemirror_mode": {
    "name": "ipython",
    "version": 2
   },
   "file_extension": ".py",
   "mimetype": "text/x-python",
   "name": "python",
   "nbconvert_exporter": "python",
   "pygments_lexer": "ipython2",
   "version": "2.7.6"
  }
 },
 "nbformat": 4,
 "nbformat_minor": 0
}