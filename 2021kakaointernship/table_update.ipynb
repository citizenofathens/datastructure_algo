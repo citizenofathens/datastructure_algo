{
 "cells": [
  {
   "cell_type": "code",
   "execution_count": null,
   "metadata": {
    "collapsed": true
   },
   "outputs": [],
   "source": [
    "# 표편집\n",
    "# 내 풀이( 틀림 )\n",
    "# linked list#\n",
    "def solution(n, k, cmd):\n",
    "\n",
    "    result = '0' * n\n",
    "\n",
    "    curr_cursor = k\n",
    "\n",
    "    remove_stack = []\n",
    "    for command in cmd:\n",
    "\n",
    "        order, count = command.split(\" \")\n",
    "\n",
    "        if order =='U':\n",
    "            curr_cursor += count\n",
    "\n",
    "        elif order =='D':\n",
    "            curr_cursor -= count\n",
    "\n",
    "        elif order =='Z':\n",
    "            # 연결되어 있으면 되돌리고 하는 게 빠르긴 하겠다\n",
    "            remove_row = remove_stack.pop(-1)\n",
    "            result[remove_row] = 'O'\n",
    "            if remove_row < current_cursor:\n",
    "                pass\n",
    "            elif remove_row > current_cursor:\n",
    "                current_cursor += 1\n",
    "\n",
    "        elif order =='C':\n",
    "            result[current_cursor] = 'X'\n",
    "            remove_stack.append(current_cursor)\n",
    "\n",
    "            if current_cursor == n:\n",
    "                current_cursor -=1\n",
    "            else:\n",
    "                current_cursor += 1\n",
    "\n",
    "\n",
    "    answer = ''\n",
    "    return answer\n"
   ]
  },
  {
   "cell_type": "code",
   "execution_count": 2,
   "outputs": [],
   "source": [
    "n = 8\n",
    "OX = [\"O\" for i in range(1,n+1)]"
   ],
   "metadata": {
    "collapsed": false,
    "pycharm": {
     "name": "#%%\n"
    }
   }
  },
  {
   "cell_type": "code",
   "execution_count": 4,
   "outputs": [
    {
     "data": {
      "text/plain": "['O', 'O', 'O', 'O', 'O', 'O', 'O', 'O']"
     },
     "execution_count": 4,
     "metadata": {},
     "output_type": "execute_result"
    }
   ],
   "source": [
    "OX"
   ],
   "metadata": {
    "collapsed": false,
    "pycharm": {
     "name": "#%%\n"
    }
   }
  },
  {
   "cell_type": "code",
   "execution_count": 5,
   "outputs": [],
   "source": [
    "answer = ['O'] * n\n"
   ],
   "metadata": {
    "collapsed": false,
    "pycharm": {
     "name": "#%%\n"
    }
   }
  },
  {
   "cell_type": "code",
   "execution_count": 6,
   "outputs": [
    {
     "data": {
      "text/plain": "['O', 'O', 'O', 'O', 'O', 'O', 'O', 'O']"
     },
     "execution_count": 6,
     "metadata": {},
     "output_type": "execute_result"
    }
   ],
   "source": [
    "answer\n"
   ],
   "metadata": {
    "collapsed": false,
    "pycharm": {
     "name": "#%%\n"
    }
   }
  },
  {
   "cell_type": "code",
   "execution_count": 10,
   "outputs": [],
   "source": [
    "linked_list = {i: [i - 1, i + 1] for i in range(1, n+1)} #"
   ],
   "metadata": {
    "collapsed": false,
    "pycharm": {
     "name": "#%%\n"
    }
   }
  },
  {
   "cell_type": "code",
   "execution_count": 11,
   "outputs": [],
   "source": [
    "table = { i:[i - 1, i + 1] for i in range(n) }"
   ],
   "metadata": {
    "collapsed": false,
    "pycharm": {
     "name": "#%%\n"
    }
   }
  },
  {
   "cell_type": "code",
   "execution_count": 12,
   "outputs": [
    {
     "data": {
      "text/plain": "{1: [0, 2],\n 2: [1, 3],\n 3: [2, 4],\n 4: [3, 5],\n 5: [4, 6],\n 6: [5, 7],\n 7: [6, 8],\n 8: [7, 9]}"
     },
     "execution_count": 12,
     "metadata": {},
     "output_type": "execute_result"
    }
   ],
   "source": [
    "linked_list"
   ],
   "metadata": {
    "collapsed": false,
    "pycharm": {
     "name": "#%%\n"
    }
   }
  },
  {
   "cell_type": "code",
   "execution_count": 13,
   "outputs": [
    {
     "data": {
      "text/plain": "{0: [-1, 1],\n 1: [0, 2],\n 2: [1, 3],\n 3: [2, 4],\n 4: [3, 5],\n 5: [4, 6],\n 6: [5, 7],\n 7: [6, 8]}"
     },
     "execution_count": 13,
     "metadata": {},
     "output_type": "execute_result"
    }
   ],
   "source": [
    "table"
   ],
   "metadata": {
    "collapsed": false,
    "pycharm": {
     "name": "#%%\n"
    }
   }
  },
  {
   "cell_type": "code",
   "execution_count": null,
   "outputs": [],
   "source": [
    "# def solution(n, k, cmd):\n",
    "#     answer = ''\n",
    "\n",
    "#     linked_list = {i: [i - 1, i + 1] for i in range(1, n+1)} #n=8일때 1~8까지\n",
    "#     OX = [\"O\" for i in range(1,n+1)]\n",
    "#     stack = []\n",
    "\n",
    "#     k += 1\n",
    "\n",
    "#     for c in cmd:\n",
    "#         if c[0] == 'D':\n",
    "#             for _ in range(int(c[2:])):\n",
    "#                 k = linked_list[k][1]\n",
    "#         elif c[0] == 'U':\n",
    "#             for _ in range(int(c[2:])):\n",
    "#                 k = linked_list[k][0]\n",
    "#         elif c[0] == 'C':\n",
    "#             prev, next = linked_list[k]\n",
    "#             stack.append([prev, next, k])\n",
    "#             OX[k-1] = \"X\"\n",
    "\n",
    "#             if next == n+1:\n",
    "#                 k = linked_list[k][0]\n",
    "#             else:\n",
    "#                 k = linked_list[k][1]\n",
    "\n",
    "#             if prev == 0:\n",
    "#                 linked_list[next][0] = prev\n",
    "#             elif next == n+1:\n",
    "#                 linked_list[prev][1] = next\n",
    "#             else:\n",
    "#                 linked_list[prev][1] = next\n",
    "#                 linked_list[next][0] = prev\n",
    "\n",
    "#         elif c[0] == 'Z':\n",
    "#             prev, next, now = stack.pop()\n",
    "#             OX[now-1] = \"O\"\n",
    "\n",
    "#             if prev == 0:\n",
    "#                 linked_list[next][0] = now\n",
    "#             elif next == n+1:\n",
    "#                 linked_list[prev][1] = now\n",
    "#             else:\n",
    "#                 linked_list[prev][1] = now\n",
    "#                 linked_list[next][0] = now\n",
    "\n",
    "#     return \"\".join(OX)\n",
    "\n",
    "\n",
    "\n",
    "\n",
    "\n",
    "\n",
    "def solution(n, k,cmd):\n",
    "\n",
    "\n",
    "    linked_list = {i :(i-1,i+1) for i in range(n)}\n",
    "    OX = \"O\" * n\n",
    "    stack = []\n",
    "    for command in cmd:\n",
    "        order, cnt = command.split(\" \")\n",
    "\n",
    "        if order == \"D\":\n",
    "            # 두 칸 아래인 경우?\n",
    "\n",
    "            for _ in range(int(cnt)):\n",
    "                # cnt 만큼 (ex) cnt가 2라면 한 칸 내려가고 그 k에서 한 칸 더 내려간다\n",
    "                k = linked_list[k][1]\n",
    "        elif order == \"U\":\n",
    "\n",
    "            for _ in range(int(cnt)):\n",
    "                k = linked_list[k][0]\n",
    "\n",
    "        # 현재 행을 클리어하고 행은 다음 행으로, 복구 할 수 있도록 stack에 쌓아놓고 OX 표시를 한다\n",
    "        if order == \"C\":\n",
    "            prev =  linked_list[k][0]\n",
    "            next = linked_list[k][1]\n",
    "            linked_list[k][0] = linked_list[k][1]\n",
    "            OX[k] = \"X\"\n",
    "            stack.append(prev,next,k)\n",
    "\n",
    "        # 중간 복구 삽입\n",
    "        # 알고리즘과 구조를 이해하고 문제를 보면 오히려 더 문제가 명확하고 쉽게 이해하고 활용할수있따 (삽입 수정 가능한 연결리스트 라는것)\n",
    "        elif order  == \"Z\":\n",
    "            prev, next, k = stack.pop()\n",
    "            #\n",
    "            # k 위치에서의 가 있었을때의\n",
    "\n",
    "\n",
    "\n",
    "\n",
    "\n",
    "\n",
    "\n",
    "\n",
    "\n",
    "\n",
    "\n",
    "\n",
    "\n"
   ],
   "metadata": {
    "collapsed": false,
    "pycharm": {
     "name": "#%%\n"
    }
   }
  }
 ],
 "metadata": {
  "kernelspec": {
   "display_name": "Python 3",
   "language": "python",
   "name": "python3"
  },
  "language_info": {
   "codemirror_mode": {
    "name": "ipython",
    "version": 2
   },
   "file_extension": ".py",
   "mimetype": "text/x-python",
   "name": "python",
   "nbconvert_exporter": "python",
   "pygments_lexer": "ipython2",
   "version": "2.7.6"
  }
 },
 "nbformat": 4,
 "nbformat_minor": 0
}