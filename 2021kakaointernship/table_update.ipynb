{
 "cells": [
  {
   "cell_type": "code",
   "execution_count": null,
   "metadata": {
    "collapsed": true
   },
   "outputs": [],
   "source": [
    "# 표편집\n",
    "# 내 풀이( 틀림 )\n",
    "# linked list#\n",
    "def solution(n, k, cmd):\n",
    "    result = '0' * n\n",
    "\n",
    "    curr_cursor = k\n",
    "\n",
    "    remove_stack = []\n",
    "    for command in cmd:\n",
    "\n",
    "        order, count = command.split(\" \")\n",
    "\n",
    "        if order == 'U':\n",
    "            curr_cursor += count\n",
    "\n",
    "        elif order == 'D':\n",
    "            curr_cursor -= count\n",
    "\n",
    "        elif order == 'Z':\n",
    "            # 연결되어 있으면 되돌리고 하는 게 빠르긴 하겠다\n",
    "            remove_row = remove_stack.pop(-1)\n",
    "            result[remove_row] = 'O'\n",
    "            if remove_row < current_cursor:\n",
    "                pass\n",
    "            elif remove_row > current_cursor:\n",
    "                current_cursor += 1\n",
    "\n",
    "        elif order == 'C':\n",
    "            result[current_cursor] = 'X'\n",
    "            remove_stack.append(current_cursor)\n",
    "\n",
    "            if current_cursor == n:\n",
    "                current_cursor -= 1\n",
    "            else:\n",
    "                current_cursor += 1\n",
    "\n",
    "    answer = ''\n",
    "    return answer\n"
   ]
  },
  {
   "cell_type": "code",
   "execution_count": 2,
   "outputs": [],
   "source": [
    "n = 8\n",
    "OX = [\"O\" for i in range(1, n + 1)]"
   ],
   "metadata": {
    "collapsed": false,
    "pycharm": {
     "name": "#%%\n"
    }
   }
  },
  {
   "cell_type": "code",
   "execution_count": 4,
   "outputs": [
    {
     "data": {
      "text/plain": "['O', 'O', 'O', 'O', 'O', 'O', 'O', 'O']"
     },
     "execution_count": 4,
     "metadata": {},
     "output_type": "execute_result"
    }
   ],
   "source": [
    "OX"
   ],
   "metadata": {
    "collapsed": false,
    "pycharm": {
     "name": "#%%\n"
    }
   }
  },
  {
   "cell_type": "code",
   "execution_count": 5,
   "outputs": [],
   "source": [
    "answer = ['O'] * n\n"
   ],
   "metadata": {
    "collapsed": false,
    "pycharm": {
     "name": "#%%\n"
    }
   }
  },
  {
   "cell_type": "code",
   "execution_count": 6,
   "outputs": [
    {
     "data": {
      "text/plain": "['O', 'O', 'O', 'O', 'O', 'O', 'O', 'O']"
     },
     "execution_count": 6,
     "metadata": {},
     "output_type": "execute_result"
    }
   ],
   "source": [
    "answer\n"
   ],
   "metadata": {
    "collapsed": false,
    "pycharm": {
     "name": "#%%\n"
    }
   }
  },
  {
   "cell_type": "code",
   "execution_count": 10,
   "outputs": [],
   "source": [
    "linked_list = {i: [i - 1, i + 1] for i in range(1, n + 1)}  #"
   ],
   "metadata": {
    "collapsed": false,
    "pycharm": {
     "name": "#%%\n"
    }
   }
  },
  {
   "cell_type": "code",
   "execution_count": 11,
   "outputs": [],
   "source": [
    "table = {i: [i - 1, i + 1] for i in range(n)}"
   ],
   "metadata": {
    "collapsed": false,
    "pycharm": {
     "name": "#%%\n"
    }
   }
  },
  {
   "cell_type": "code",
   "execution_count": 12,
   "outputs": [
    {
     "data": {
      "text/plain": "{1: [0, 2],\n 2: [1, 3],\n 3: [2, 4],\n 4: [3, 5],\n 5: [4, 6],\n 6: [5, 7],\n 7: [6, 8],\n 8: [7, 9]}"
     },
     "execution_count": 12,
     "metadata": {},
     "output_type": "execute_result"
    }
   ],
   "source": [
    "linked_list"
   ],
   "metadata": {
    "collapsed": false,
    "pycharm": {
     "name": "#%%\n"
    }
   }
  },
  {
   "cell_type": "code",
   "execution_count": 13,
   "outputs": [
    {
     "data": {
      "text/plain": "{0: [-1, 1],\n 1: [0, 2],\n 2: [1, 3],\n 3: [2, 4],\n 4: [3, 5],\n 5: [4, 6],\n 6: [5, 7],\n 7: [6, 8]}"
     },
     "execution_count": 13,
     "metadata": {},
     "output_type": "execute_result"
    }
   ],
   "source": [
    "table"
   ],
   "metadata": {
    "collapsed": false,
    "pycharm": {
     "name": "#%%\n"
    }
   }
  },
  {
   "cell_type": "code",
   "execution_count": null,
   "outputs": [],
   "source": [
    "# def solution(n, k, cmd):\n",
    "#     answer = ''\n",
    "\n",
    "#     linked_list = {i: [i - 1, i + 1] for i in range(1, n+1)} #n=8일때 1~8까지\n",
    "#     OX = [\"O\" for i in range(1,n+1)]\n",
    "#     stack = []\n",
    "\n",
    "#     k += 1\n",
    "\n",
    "#     for c in cmd:\n",
    "#         if c[0] == 'D':\n",
    "#             for _ in range(int(c[2:])):\n",
    "#                 k = linked_list[k][1]\n",
    "#         elif c[0] == 'U':\n",
    "#             for _ in range(int(c[2:])):\n",
    "#                 k = linked_list[k][0]\n",
    "#         elif c[0] == 'C':\n",
    "#             prev, next = linked_list[k]\n",
    "#             stack.append([prev, next, k])\n",
    "#             OX[k-1] = \"X\"\n",
    "\n",
    "#             if next == n+1:\n",
    "#                 k = linked_list[k][0]\n",
    "#             else:\n",
    "#                 k = linked_list[k][1]\n",
    "\n",
    "#             if prev == 0:\n",
    "#                 linked_list[next][0] = prev\n",
    "#             elif next == n+1:\n",
    "#                 linked_list[prev][1] = next\n",
    "#             else:\n",
    "#                 linked_list[prev][1] = next\n",
    "#                 linked_list[next][0] = prev\n",
    "\n",
    "#         elif c[0] == 'Z':\n",
    "#             prev, next, now = stack.pop()\n",
    "#             OX[now-1] = \"O\"\n",
    "\n",
    "#             if prev == 0:\n",
    "#                 linked_list[next][0] = now\n",
    "#             elif next == n+1:\n",
    "#                 linked_list[prev][1] = now\n",
    "#             else:\n",
    "#                 linked_list[prev][1] = now\n",
    "#                 linked_list[next][0] = now\n",
    "\n",
    "#     return \"\".join(OX)\n",
    "\n",
    "\n",
    "def solution(n, k, cmd):\n",
    "    linked_list = {i: (i - 1, i + 1) for i in range(n)}\n",
    "    OX = \"O\" * n\n",
    "    stack = []\n",
    "    for command in cmd:\n",
    "        order, cnt = command.split(\" \")\n",
    "\n",
    "        if order == \"D\":\n",
    "            # 두 칸 아래인 경우?\n",
    "\n",
    "            for _ in range(int(cnt)):\n",
    "                # cnt 만큼 (ex) cnt가 2라면 한 칸 내려가고 그 k에서 한 칸 더 내려간다\n",
    "                k = linked_list[k][1]\n",
    "        elif order == \"U\":\n",
    "\n",
    "            for _ in range(int(cnt)):\n",
    "                k = linked_list[k][0]\n",
    "\n",
    "        # 현재 행을 클리어하고 행은 다음 행으로, 복구 할 수 있도록 stack에 쌓아놓고 OX 표시를 한다\n",
    "        if order == \"C\":\n",
    "            prev = linked_list[k][0]\n",
    "            next = linked_list[k][1]\n",
    "            linked_list[k][0] = linked_list[k][1]\n",
    "            OX[k] = \"X\"\n",
    "            stack.append(prev, next, k)\n",
    "\n",
    "        # 중간 복구 삽입\n",
    "        # 알고리즘과 구조를 이해하고 문제를 보면 오히려 더 문제가 명확하고 쉽게 이해하고 활용할수있따 (삽입 수정 가능한 연결리스트 라는것)\n",
    "        elif order == \"Z\":\n",
    "            prev, next, k = stack.pop()\n",
    "            #\n",
    "            # k 위치에서의 가 있었을때의\n"
   ],
   "metadata": {
    "collapsed": false,
    "pycharm": {
     "name": "#%%\n"
    }
   }
  },
  {
   "cell_type": "code",
   "execution_count": null,
   "outputs": [],
   "source": [
    "# def solution(n, k, cmd):\n",
    "#     answer = ''\n",
    "\n",
    "#     linked_list = {i: [i - 1, i + 1] for i in range(1, n+1)} #n=8일때 1~8까지\n",
    "#     OX = [\"O\" for i in range(1,n+1)]\n",
    "#     stack = []\n",
    "\n",
    "#     k += 1\n",
    "\n",
    "#     for c in cmd:\n",
    "#         if c[0] == 'D':\n",
    "#             for _ in range(int(c[2:])):\n",
    "#                 k = linked_list[k][1]\n",
    "#         elif c[0] == 'U':\n",
    "#             for _ in range(int(c[2:])):\n",
    "#                 k = linked_list[k][0]\n",
    "#         elif c[0] == 'C':\n",
    "#             prev, next = linked_list[k]\n",
    "#             stack.append([prev, next, k])\n",
    "#             OX[k-1] = \"X\"\n",
    "\n",
    "#             if next == n+1:\n",
    "#                 k = linked_list[k][0]\n",
    "#             else:\n",
    "#                 k = linked_list[k][1]\n",
    "\n",
    "#             if prev == 0:\n",
    "#                 linked_list[next][0] = prev\n",
    "#             elif next == n+1:\n",
    "#                 linked_list[prev][1] = next\n",
    "#             else:\n",
    "#                 linked_list[prev][1] = next\n",
    "#                 linked_list[next][0] = prev\n",
    "\n",
    "#         elif c[0] == 'Z':\n",
    "#             prev, next, now = stack.pop()\n",
    "#             OX[now-1] = \"O\"\n",
    "\n",
    "#             if prev == 0:\n",
    "#                 linked_list[next][0] = now\n",
    "#             elif next == n+1:\n",
    "#                 linked_list[prev][1] = now\n",
    "#             else:\n",
    "#                 linked_list[prev][1] = now\n",
    "#                 linked_list[next][0] = now\n",
    "\n",
    "#     return \"\".join(OX)\n",
    "\n",
    "\n",
    "\n"
   ],
   "metadata": {
    "collapsed": false,
    "pycharm": {
     "name": "#%%\n"
    }
   }
  },
  {
   "cell_type": "code",
   "execution_count": 2,
   "outputs": [],
   "source": [
    "def solution(n, k, cmd):\n",
    "    linked_list = {i: (i - 1, i + 1) for i in range(n)}\n",
    "    OX = \"O\" * n\n",
    "    stack = []\n",
    "    for command in cmd:\n",
    "        order, cnt = command.split(\" \")\n",
    "\n",
    "        if order == \"D\":\n",
    "            # 두 칸 아래인 경우?\n",
    "\n",
    "            for _ in range(int(cnt)):\n",
    "                # cnt 만큼 (ex) cnt가 2라면 한 칸 내려가고 그 k에서 한 칸 더 내려간다\n",
    "                k = linked_list[k][1]\n",
    "        elif order == \"U\":\n",
    "\n",
    "            for _ in range(int(cnt)):\n",
    "                k = linked_list[k][0]\n",
    "\n",
    "        # 현재 행을 클리어하고 행은 다음 행으로, 복구 할 수 있도록 stack에 쌓아놓고 OX 표시를 한다\n",
    "        if order == \"C\":\n",
    "            prev = linked_list[k][0]\n",
    "            next = linked_list[k][1]\n",
    "            linked_list[k][0] = linked_list[k][1]\n",
    "            OX[k] = \"X\"\n",
    "            stack.append(prev, next, k)\n",
    "\n",
    "        # 중간 복구 삽입\n",
    "        # 알고리즘과 구조를 이해하고 문제를 보면 오히려 더 문제가 명확하고 쉽게 이해하고 활용할수있따 (삽입 수정 가능한 연결리스트 라는것)\n",
    "        elif order == \"Z\":\n",
    "            prev, next, k = stack.pop()\n",
    "            # 현재 커서 보다는 꺼내진 커서의 이전노드와 마지막 노드 활용\n",
    "            # 만약 마지막 값이 었다면\n",
    "            # 이전노드에 현재 노드값을 추가하면 된다\n",
    "            if k == n - 1:\n",
    "                linked_list[k - 1][1] = k\n",
    "            # 첫번째 값이었다면\n",
    "            elif k == 0:\n",
    "                linked_list[k + 1][0] = k\n",
    "            # 중간 삽입이라면\n",
    "            else:\n",
    "                linked_list[k - 1][1] = k\n",
    "                linked_list[k + 1][0] = k\n",
    "                # k 위치에서의 가 있었을때의"
   ],
   "metadata": {
    "collapsed": false,
    "pycharm": {
     "name": "#%%\n"
    }
   }
  },
  {
   "cell_type": "code",
   "execution_count": 21,
   "outputs": [],
   "source": [],
   "metadata": {
    "collapsed": false,
    "pycharm": {
     "name": "#%%\n"
    }
   }
  },
  {
   "cell_type": "code",
   "execution_count": 22,
   "outputs": [],
   "source": [
    "#\n",
    "cmd = [\"D 2\", \"C\", \"U 3\", \"C\", \"D 4\", \"C\", \"U 2\", \"Z\", \"Z\"]"
   ],
   "metadata": {
    "collapsed": false,
    "pycharm": {
     "name": "#%%\n"
    }
   }
  },
  {
   "cell_type": "code",
   "execution_count": 27,
   "outputs": [
    {
     "ename": "KeyError",
     "evalue": "8",
     "output_type": "error",
     "traceback": [
      "\u001B[1;31m---------------------------------------------------------------------------\u001B[0m",
      "\u001B[1;31mKeyError\u001B[0m                                  Traceback (most recent call last)",
      "\u001B[1;32m<ipython-input-27-007473cded1c>\u001B[0m in \u001B[0;36m<module>\u001B[1;34m\u001B[0m\n\u001B[0;32m     83\u001B[0m             \u001B[1;31m#이전 노드와 다음 노드의 정보도 수정 해야지\u001B[0m\u001B[1;33m\u001B[0m\u001B[1;33m\u001B[0m\u001B[1;33m\u001B[0m\u001B[0m\n\u001B[0;32m     84\u001B[0m             \u001B[0mlinked_list\u001B[0m\u001B[1;33m[\u001B[0m\u001B[0mprev\u001B[0m\u001B[1;33m]\u001B[0m\u001B[1;33m[\u001B[0m\u001B[1;36m1\u001B[0m\u001B[1;33m]\u001B[0m \u001B[1;33m=\u001B[0m \u001B[0mk\u001B[0m\u001B[1;33m\u001B[0m\u001B[1;33m\u001B[0m\u001B[0m\n\u001B[1;32m---> 85\u001B[1;33m             \u001B[0mlinked_list\u001B[0m\u001B[1;33m[\u001B[0m\u001B[0mnext\u001B[0m\u001B[1;33m]\u001B[0m\u001B[1;33m[\u001B[0m\u001B[1;36m0\u001B[0m\u001B[1;33m]\u001B[0m \u001B[1;33m=\u001B[0m \u001B[0mk\u001B[0m\u001B[1;33m\u001B[0m\u001B[1;33m\u001B[0m\u001B[0m\n\u001B[0m\u001B[0;32m     86\u001B[0m             \u001B[1;31m# k 위치에서의 가 있었을때의\u001B[0m\u001B[1;33m\u001B[0m\u001B[1;33m\u001B[0m\u001B[1;33m\u001B[0m\u001B[0m\n",
      "\u001B[1;31mKeyError\u001B[0m: 8"
     ]
    }
   ],
   "source": [
    "n = 8\n",
    "k = 2\n",
    "# 0부터 none 처리를 하던가\n",
    "linked_list = {i: [i - 1, i + 1] for i in range(n)}\n",
    "OX = [\"O\"] * n\n",
    "stack = []\n",
    "linked_list[0][0] = None\n",
    "linked_list[n - 1][1] = None\n",
    "for command in cmd:\n",
    "    #order, cnt = command.split(\" \")\n",
    "\n",
    "    if command[0] == \"D\":\n",
    "        # 두 칸 아래인 경우?\n",
    "        for _ in range(int(command[2:])):\n",
    "            # cnt 만큼 (ex) cnt가 2라면 한 칸 내려가고 그 k에서 한 칸 더 내려간다\\\n",
    "            if linked_list[k][1] == None:\n",
    "                pass\n",
    "            else:\n",
    "                k = linked_list[k][1]\n",
    "    elif command[0] == \"U\":\n",
    "        for _ in range(int()):\n",
    "            if linked_list[k][0] == None:\n",
    "                pass\n",
    "\n",
    "            else:\n",
    "                # 현재 커서 값을 변경하지 않는다\n",
    "                k = linked_list[k][0]\n",
    "\n",
    "    # 현재 행을 클리어하고 행은 다음 행으로, 복구 할 수 있도록 stack에 쌓아놓고 OX 표시를 한다\n",
    "    if command[0] == \"C\":\n",
    "        # prev =  linked_list[k][0]\n",
    "        # next = linked_list[k][1]\n",
    "        # 이전 node의 다음 node 값에 다음 node의 이전 값을 담는다? x\n",
    "        # 그러면 현재 k 값을 활용하는 게 된다\n",
    "        #        linked_list[k-1][1] = linked_list[k+1][0]\n",
    "\n",
    "        # **이렇게 하지 말고 현재 노드가 가지고 있는 정보를 꺼내야 한다 ***\n",
    "        #        next = k+1\n",
    "        #       prev=  k-1\n",
    "        # k+1이라는 상수가 아니라 linked_list에서 반복을 돌거니까 거기서 가리키고 있는 정보를 가져와야지\n",
    "\n",
    "        next, prev = linked_list[k]\n",
    "\n",
    "        # 마지막 행이라면\n",
    "        if k == n - 1:\n",
    "            # 이전 행이 마지막 행이 되고\n",
    "            linked_list[prev][1] = None\n",
    "            # 현재 노드의 이전 값이 현재 커서가 된다\n",
    "            k = prev\n",
    "            #\n",
    "        elif k == 0:\n",
    "            # 다음 행의 이전 행이 None 값이 된다\n",
    "            linked_list[next][0] = None\n",
    "            # 커서는 다음 노드가 된다\n",
    "            k = next\n",
    "        else:\n",
    "            # 중간에 claer 된다면\n",
    "            # clear시에 분기 처리필요\n",
    "            linked_list[next][0] = prev\n",
    "            linked_list[prev][1] = next\n",
    "\n",
    "            #커서는 다음 행으로 넘어가지 않아도 된다\n",
    "            # 왜냐면 저렇게 연결 지어줌으로써 현재커서값이 가리키는 값이 곧\n",
    "            #k = next\n",
    "\n",
    "        OX[k] = \"X\"\n",
    "        # 연결 정보를 기억하고 stack에 append\n",
    "        stack.append((prev, next, k))\n",
    "    # 중간 복구 삽입\n",
    "    # 알고리즘과 구조를 이해하고 문제를 보면 오히려 더 문제가 명확하고 쉽게 이해하고 활용할수있따 (삽입 수정 가능한 연결리스트 라는것)\n",
    "    elif command[0] == \"Z\":\n",
    "        OX[k] = \"O\"\n",
    "        prev, next, k = stack.pop()\n",
    "        # 현재 커서 보다는 꺼내진 커서의 이전노드와 마지막 노드 활용\n",
    "        # 만약 마지막 값이 었다면\n",
    "        if k == n - 1:\n",
    "            # 이전노드에 현재 노드값을 추가하면 된다\n",
    "            linked_list[prev][1] = k\n",
    "            #그리고 복구된 노드의 정보도 살려야지\n",
    "#           linked_list[k][0] = prev\n",
    "           # **지울 노드의 정보도 딱히 지우지 않는다! **\n",
    "\n",
    "\n",
    "        # 첫번째 값이었다면\n",
    "        elif k == 0:\n",
    "            # 다음 노드에 현재 노드 값을 추가해 주고\n",
    "            linked_list[next][0] = k\n",
    "            # 복구된 노드에서 정보도 살려줘야지\n",
    "            linked_list[k][1] = next\n",
    "        # 중간 삽입이라면\n",
    "        else:\n",
    "            # 복구된 노드 살리고\n",
    "            linked_list[k][0] = prev\n",
    "            linked_list[k][1] = next\n",
    "\n",
    "            #이전 노드와 다음 노드의 정보도 수정 해야지\n",
    "            linked_list[prev][1] = k\n",
    "            linked_list[next][0] = k\n",
    "            # k 위치에서의 가 있었을때의"
   ],
   "metadata": {
    "collapsed": false,
    "pycharm": {
     "name": "#%%\n"
    }
   }
  },
  {
   "cell_type": "code",
   "execution_count": 21,
   "outputs": [
    {
     "data": {
      "text/plain": "'OOOxXOOO'"
     },
     "execution_count": 21,
     "metadata": {},
     "output_type": "execute_result"
    }
   ],
   "source": [
    "\"\".join(OX)"
   ],
   "metadata": {
    "collapsed": false,
    "pycharm": {
     "name": "#%%\n"
    }
   }
  },
  {
   "cell_type": "code",
   "execution_count": 20,
   "outputs": [],
   "source": [
    "OX[3] = \"x\""
   ],
   "metadata": {
    "collapsed": false,
    "pycharm": {
     "name": "#%%\n"
    }
   }
  },
  {
   "cell_type": "code",
   "execution_count": null,
   "outputs": [],
   "source": [
    "\n",
    "\n",
    "# 알고리즘 구현 순서에 따라 코드가 조금씪 달라지는거지 개념은 같다\n",
    "\n",
    "\n",
    "\n",
    "\n",
    "\n",
    "\n",
    "\n",
    "\n",
    "\n",
    "\n",
    "\n",
    "\n",
    "\n",
    "\n"
   ],
   "metadata": {
    "collapsed": false,
    "pycharm": {
     "name": "#%%\n"
    }
   }
  },
  {
   "cell_type": "code",
   "execution_count": null,
   "outputs": [],
   "source": [
    "\n",
    "def solution(n, k, cmd):    cur = k\n",
    "\n",
    "\n",
    "table = {i: [i - 1, i + 1] for i in range(n)}\n",
    "answer = ['O'] * n\n",
    "table[0] = [None, 1]\n",
    "table[n - 1] = [n - 2, None]\n",
    "stack = []\n",
    "for c in cmd:\n",
    "    if c == \"C\": 삭제\n",
    "    answer[cur] = 'X'\n",
    "    prev, next = table[cur]\n",
    "    stack.append([prev, cur, next])\n",
    "    if next == None:\n",
    "        cur = table[cur][0]            else:\n",
    "        cur = table[cur][1]\n",
    "    if prev == None:\n",
    "        table[next][0] = None            elif next == None:\n",
    "        table[prev][1] = None            else:\n",
    "        table[prev][1] = next\n",
    "    table[next][0] = prev elif c == \"Z\": 복구\n",
    "    prev, now, next = stack.pop()\n",
    "    answer[now] = 'O'\n",
    "    if prev == None:\n",
    "        table[next][0] = now            elif next == None:\n",
    "        table[prev][1] = now            else:\n",
    "        table[next][0] = now\n",
    "    table[prev][1] = now else:              커서\n",
    "    이동\n",
    "    c1, c2 = c.split(' ')\n",
    "    c2 = int(c2)\n",
    "    if c1 == 'D':                for\n",
    "    _ in range(c2): cur = table[cur][1] else:                for _ in range(c2):                    cur = table[cur][0]\n",
    "    return ''.join(answer)"
   ],
   "metadata": {
    "collapsed": false,
    "pycharm": {
     "name": "#%%\n"
    }
   }
  }
 ],
 "metadata": {
  "kernelspec": {
   "display_name": "Python 3",
   "language": "python",
   "name": "python3"
  },
  "language_info": {
   "codemirror_mode": {
    "name": "ipython",
    "version": 2
   },
   "file_extension": ".py",
   "mimetype": "text/x-python",
   "name": "python",
   "nbconvert_exporter": "python",
   "pygments_lexer": "ipython2",
   "version": "2.7.6"
  }
 },
 "nbformat": 4,
 "nbformat_minor": 0
}