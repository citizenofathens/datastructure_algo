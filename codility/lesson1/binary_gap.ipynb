{
 "cells": [
  {
   "cell_type": "code",
   "execution_count": null,
   "metadata": {
    "collapsed": true,
    "pycharm": {
     "name": "#%%\n"
    }
   },
   "outputs": [],
   "source": [
    "\n",
    "def solution(N):\n",
    "    # write your code in Python 3.8.10\n",
    "\n",
    "    biggest_gap = 0\n",
    "    current_gap = 0\n",
    "\n",
    "    format_N = format(N,'b')\n",
    "    binary_N = format_N[::-1]\n",
    "    curr_idx = binary_N.index('1')\n",
    "    while curr_idx+1 <  len(binary_N):\n",
    "        print('biggest gap : ',biggest_gap)\n",
    "        if binary_N[curr_idx+1] == '0':\n",
    "            current_gap += 1\n",
    "            print('curr idx :' ,curr_idx+1)\n",
    "        elif binary_N[curr_idx+1]  == '1':\n",
    "            if current_gap > biggest_gap:\n",
    "                biggest_gap = current_gap\n",
    "            else:\n",
    "                current_gap = 0\n",
    "            # 사잇값을 안구해서 초기화가 안됨\n",
    "\n",
    "\n",
    "            print('curr idx : ',curr_idx+1)\n",
    "        curr_idx+=1\n",
    "    print('biggest gap : curr_idx :',biggest_gap,curr_idx)\n",
    "\n",
    "    return biggest_gap"
   ]
  }
 ],
 "metadata": {
  "kernelspec": {
   "display_name": "Python 3",
   "language": "python",
   "name": "python3"
  },
  "language_info": {
   "codemirror_mode": {
    "name": "ipython",
    "version": 2
   },
   "file_extension": ".py",
   "mimetype": "text/x-python",
   "name": "python",
   "nbconvert_exporter": "python",
   "pygments_lexer": "ipython2",
   "version": "2.7.6"
  }
 },
 "nbformat": 4,
 "nbformat_minor": 0
}