{
 "cells": [
  {
   "cell_type": "code",
   "execution_count": 3,
   "metadata": {
    "collapsed": true
   },
   "outputs": [],
   "source": [
    "\n",
    "# 포도주 잔의 개수 N\n",
    "N = int(input())\n",
    "grapes = []\n",
    "\n",
    "for _ in range(N):\n",
    "    grapes.append(int(input()))"
   ]
  },
  {
   "cell_type": "code",
   "execution_count": 10,
   "outputs": [
    {
     "data": {
      "text/plain": "[6, 6, 10, 18, 10, 30, 3]"
     },
     "execution_count": 10,
     "metadata": {},
     "output_type": "execute_result"
    }
   ],
   "source": [
    "grapes\n",
    "dp = [0] * N\n",
    "\n",
    "if N ==1:\n",
    "    print(grapes[0])\n",
    "elif N ==2:\n",
    "    print(grapes[0]+grapes[1])\n",
    "else:\n",
    "    dp[0] = grapes[0]\n",
    "    dp[1] = grapes[0]+grapes[1]\n",
    "    dp[2] = grapes[2] + max(grapes[0],grapes[1])\n",
    "\n",
    "    for i in range(grapes):\n",
    "        dp[i] = max(dp[i-2]+grapes[i],\n",
    "                        dp[i-1],\n",
    "                        dp[i-3]+grapes[i-1]+grapes[i])                    # 지금 포도주를 안마시고 바로 이전값을 append\n",
    "    print(max(dp))"
   ],
   "metadata": {
    "collapsed": false,
    "pycharm": {
     "name": "#%%\n"
    }
   }
  }
 ],
 "metadata": {
  "kernelspec": {
   "display_name": "Python 3",
   "language": "python",
   "name": "python3"
  },
  "language_info": {
   "codemirror_mode": {
    "name": "ipython",
    "version": 2
   },
   "file_extension": ".py",
   "mimetype": "text/x-python",
   "name": "python",
   "nbconvert_exporter": "python",
   "pygments_lexer": "ipython2",
   "version": "2.7.6"
  }
 },
 "nbformat": 4,
 "nbformat_minor": 0
}