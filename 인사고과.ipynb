{
 "cells": [
  {
   "cell_type": "code",
   "execution_count": null,
   "metadata": {
    "collapsed": true
   },
   "outputs": [],
   "source": []
  },
  {
   "cell_type": "code",
   "execution_count": 3,
   "outputs": [],
   "source": [
    "attitude_score_sorted = sorted(scores,key=lambda x:x[0])"
   ],
   "metadata": {
    "collapsed": false
   }
  },
  {
   "cell_type": "code",
   "execution_count": 4,
   "outputs": [],
   "source": [
    "peer_evaluation_sorted = sorted(scores,key=lambda x:x[1])"
   ],
   "metadata": {
    "collapsed": false
   }
  },
  {
   "cell_type": "code",
   "execution_count": 9,
   "outputs": [],
   "source": [
    "# 아니면 합이 큰 사람을 찾고 , 각각이 정말 다 낮은지\n",
    "sum_scores = list(map(lambda x: x[0]+x[1],scores))"
   ],
   "metadata": {
    "collapsed": false
   }
  },
  {
   "cell_type": "code",
   "execution_count": 16,
   "outputs": [],
   "source": [
    "# True false 로 우선 찾기\n",
    "bigger_cand =  list(map(lambda x: x>0 ,sum_scores))\n"
   ],
   "metadata": {
    "collapsed": false
   }
  },
  {
   "cell_type": "code",
   "execution_count": 22,
   "outputs": [
    {
     "data": {
      "text/plain": "[[1, 4], [2, 2], [2, 1], [3, 2], [3, 2]]"
     },
     "execution_count": 22,
     "metadata": {},
     "output_type": "execute_result"
    }
   ],
   "source": [
    "# 각각에서 max_value 를 먼저 찾고 이 기준을 통과하지 못하면 인센티브를 받지 못하는 사람으로 규정한다"
   ],
   "metadata": {
    "collapsed": false
   }
  },
  {
   "cell_type": "code",
   "execution_count": 38,
   "outputs": [
    {
     "data": {
      "text/plain": "[[1, 4], [2, 2], [2, 1], [3, 2], [3, 2]]"
     },
     "execution_count": 38,
     "metadata": {},
     "output_type": "execute_result"
    }
   ],
   "source": [
    "attitude_score_sorted"
   ],
   "metadata": {
    "collapsed": false
   }
  },
  {
   "cell_type": "code",
   "execution_count": 39,
   "outputs": [
    {
     "data": {
      "text/plain": "[[2, 1], [2, 2], [3, 2], [3, 2], [1, 4]]"
     },
     "execution_count": 39,
     "metadata": {},
     "output_type": "execute_result"
    }
   ],
   "source": [
    "peer_evaluation_sorted"
   ],
   "metadata": {
    "collapsed": false
   }
  },
  {
   "cell_type": "code",
   "execution_count": 35,
   "outputs": [],
   "source": [
    "# memoization ? 혹은 최댓값을 저장하기\n",
    "max_attitude_score =attitude_score_sorted[-1][0]"
   ],
   "metadata": {
    "collapsed": false
   }
  },
  {
   "cell_type": "code",
   "execution_count": 29,
   "outputs": [],
   "source": [
    "max_peer_evaluation_score = peer_evaluation_sorted[-1][1]"
   ],
   "metadata": {
    "collapsed": false
   }
  },
  {
   "cell_type": "code",
   "execution_count": 36,
   "outputs": [
    {
     "data": {
      "text/plain": "3"
     },
     "execution_count": 36,
     "metadata": {},
     "output_type": "execute_result"
    }
   ],
   "source": [
    "# max가 아닌 사원보다 낮은 경우도 체크해야한다 max보다는 낮지만 다른 사원보다는 큰 경우\n",
    "# 아니 어쨌든 한번이라도 있는 경우를 찾는 거니까 이게 맞나\n",
    "# max 점수로만 따지는 거는 사원이 아니므로 모두가 해당되지 않게된다\n",
    "\n",
    "for score in scores:\n",
    "    if score[0] < max_attitude_score and"
   ],
   "metadata": {
    "collapsed": false
   }
  },
  {
   "cell_type": "code",
   "execution_count": null,
   "outputs": [],
   "source": [],
   "metadata": {
    "collapsed": false
   }
  },
  {
   "cell_type": "code",
   "execution_count": 40,
   "outputs": [
    {
     "data": {
      "text/plain": "[4, 5, 5, 5, 3]"
     },
     "execution_count": 40,
     "metadata": {},
     "output_type": "execute_result"
    }
   ],
   "source": [
    "# 시간 복잡도 O(n^2)이니가\n",
    "# logn으로 하려면\n",
    "# 3이어도 1,2 였으면 페널티 받지 않는다 순서가 중요\n",
    "sum_scores"
   ],
   "metadata": {
    "collapsed": false
   }
  },
  {
   "cell_type": "code",
   "execution_count": 63,
   "outputs": [],
   "source": [
    "attitude_score_sorted\n",
    "# [1,4] , [2,2] , [2,1] 은 모두 후보군이 되고\n",
    "# 첫번째거로만 정렬했을때 어쨌든 -1 전까지는 모두 후보군이고\n",
    "# 그 후보군들이 어떤 특정\n",
    "#\n",
    "#이 후보군들이 그 다음 정렬에서 두번째꺼만 비교했을 때도 하위권에 속하면\n",
    "# 여기까지 다왔는데 구현을 못했네 아니 의미를 제대로 하지 못했나봐\n",
    "# 피드백 을 해보자면 내가 한 말을 제대로 이해하지못 하고 구현하면 도시는데 재현하지못함\n",
    "# 내가 구현한 코드의 의미도 재ㅔ대로 이해를 못해서 발전을 못한듯\n",
    "#첫번째거로만 정렬해보자\n",
    "attitude_score_sorted.sort(reverse=True)"
   ],
   "metadata": {
    "collapsed": false
   }
  },
  {
   "cell_type": "code",
   "execution_count": 101,
   "outputs": [],
   "source": [
    "scores = [[2,2],[1,4],[3,2],[3,2],[2,1]]"
   ],
   "metadata": {
    "collapsed": false
   }
  },
  {
   "cell_type": "code",
   "execution_count": 102,
   "outputs": [],
   "source": [
    "\n",
    "answer = 1\n",
    "wanho_score = scores[0]\n",
    "max_peer_eval_score = 0\n",
    "incentive_list =[]\n",
    "\n",
    "\n",
    "scores.sort(reverse=True)\n",
    "start_score = scores[0]\n",
    "# 중간중간예외처리 케이스 생각해서 꼼꼼하게 코드 처리해야한다\n",
    "# 왜 틀리는건지 모를때\n",
    "\n",
    "for score in scores:\n",
    "    max_peer_eval_score = max(max_peer_eval_score,score[1])\n",
    "    if score[1] >= max_peer_eval_score:\n",
    "        incentive_list.append(score)"
   ],
   "metadata": {
    "collapsed": false
   }
  },
  {
   "cell_type": "code",
   "execution_count": null,
   "outputs": [],
   "source": [
    "\n",
    "def solution(scores):\n",
    "    my_score=scores[0]\n",
    "    my_total_score=scores[0][0]+scores[0][1]\n",
    "    bonus_list=[]\n",
    "    scores.sort(reverse=True)\n",
    "    cur_i=scores[0][0]\n",
    "    max_j=0\n",
    "    temp_max_j=scores[0][1]\n",
    "    answer = 1\n",
    "    for score in scores:\n",
    "        if cur_i!=score[0]:\n",
    "            cur_i=score[0]\n",
    "            max_j=max(max_j,temp_max_j)\n",
    "            temp_max_j=score[1]\n",
    "        if score[1]>=max_j:\n",
    "            bonus_list.append(score)\n",
    "\n",
    "    if my_score in bonus_list:\n",
    "        for emp in bonus_list:\n",
    "            if emp[0]+emp[1]>my_total_score:\n",
    "                answer+=1\n",
    "    else:\n",
    "        return -1\n",
    "    return answer"
   ],
   "metadata": {
    "collapsed": false
   }
  },
  {
   "cell_type": "code",
   "execution_count": 103,
   "outputs": [
    {
     "name": "stdout",
     "output_type": "stream",
     "text": [
      "true\n"
     ]
    }
   ],
   "source": [
    "\n",
    "answer = 1\n",
    "wanho_score = scores[0]\n",
    "max_peer_eval_score = 0\n",
    "incentive_list =[]\n",
    "\n",
    "\n",
    "scores.sort(reverse=True)\n",
    "start_score = scores[0]\n",
    "\n",
    "for score in scores:\n",
    "    max_peer_eval_score = max(max_peer_eval_score,score[1])\n",
    "    if score[1] >= max_peer_eval_score:\n",
    "        incentive_list.append(score)\n",
    "\n",
    "if wanho_score in incentive_list:\n",
    "    print('true')\n",
    "    for emp in incentive_list:\n",
    "        if emp[0] +emp[1]> wanho_score[0]+wanho_score[1]:\n",
    "            answer+=1"
   ],
   "metadata": {
    "collapsed": false
   }
  },
  {
   "cell_type": "code",
   "execution_count": 104,
   "outputs": [
    {
     "data": {
      "text/plain": "4"
     },
     "execution_count": 104,
     "metadata": {},
     "output_type": "execute_result"
    }
   ],
   "source": [],
   "metadata": {
    "collapsed": false
   }
  },
  {
   "cell_type": "code",
   "execution_count": 77,
   "outputs": [
    {
     "data": {
      "text/plain": "[1, 4]"
     },
     "execution_count": 77,
     "metadata": {},
     "output_type": "execute_result"
    }
   ],
   "source": [
    "emp"
   ],
   "metadata": {
    "collapsed": false
   }
  },
  {
   "cell_type": "code",
   "execution_count": null,
   "outputs": [],
   "source": [],
   "metadata": {
    "collapsed": false
   }
  },
  {
   "cell_type": "code",
   "execution_count": 64,
   "outputs": [
    {
     "data": {
      "text/plain": "[[3, 2], [3, 2], [2, 2], [2, 1], [1, 4]]"
     },
     "execution_count": 64,
     "metadata": {},
     "output_type": "execute_result"
    }
   ],
   "source": [
    "answer = 0\n",
    "wanho_score = scores[0]\n",
    "max_peer_eval_score = 0\n",
    "incentive_list =[]\n",
    "\n",
    "\n",
    "scores.sort(reverse=True)\n",
    "start_score = scores[0]\n",
    "\n",
    "for score in scores:\n",
    "    curr_peer_eval_score = scores[1]\n",
    "    max_peer_eval_score = max(max_peer_eval_score,curr_peer_eval_score)\n",
    "    if curr_peer_eval_score >= max_peer_eval_score:\n",
    "        incentive_list.append(score)\n",
    "if wanho_score in incentive_list:\n",
    "    for emp in incentive_list:\n",
    "        if emp[0] +emp[1]> wanho_score[0]+wanho_score[1]:\n",
    "            answer+=1\n",
    "else:\n",
    "    return -1\n",
    "return answer\n",
    "    # 첫번째값은 앞사람보다 작거나 같기 때문에\n",
    "    # 두번째값이 앞사람보다 반드시 크거나 같아야 한다\n",
    "    # 앞에서 멀리 떨어진 경우라도 앞사람은 모두 태도 점수가 좋기 때문에 어떤 중간의 특정 사람이 나보다 큰 값이 한명이라도 있으면 안되기 때문에 max값을 지정한다\n",
    "\n",
    "\n",
    "    # 거꾸로 정렬을 해놓았기 때문에 하나씩 넘어가면서 검사를 할 때\n",
    "    # j번째가 그 이전에 기억해놓던 max_j 값보다 크거나 같으면 bonus_list 에 추가한다\n",
    "    # 그런데 그걸 건너 뛰면?\n",
    "    # 정렬을 했으므로 이후에 검색되는 값이 인센티브를 받으려면\n",
    "    # 이 임의의 한사람보다 첫번째 값은 작지만 두번째값이라도 커야 한다\n",
    "    # 정렬을 했으므로 더이상 첫번째거는 검사할 필요는 없다\n",
    "    # 그 이후로 지나가면서 j 값이 작으면 안되고\n",
    "    #\n"
   ],
   "metadata": {
    "collapsed": false
   }
  },
  {
   "cell_type": "code",
   "execution_count": 44,
   "outputs": [
    {
     "data": {
      "text/plain": "[[2, 1], [2, 2], [3, 2], [3, 2], [1, 4]]"
     },
     "execution_count": 44,
     "metadata": {},
     "output_type": "execute_result"
    }
   ],
   "source": [
    "peer_evaluation_sorted"
   ],
   "metadata": {
    "collapsed": false
   }
  },
  {
   "cell_type": "code",
   "execution_count": 45,
   "outputs": [],
   "source": [
    "my_score = scores[0]"
   ],
   "metadata": {
    "collapsed": false
   }
  },
  {
   "cell_type": "code",
   "execution_count": 46,
   "outputs": [],
   "source": [
    "my_total_score= scores[0][0]+scores[0][1]"
   ],
   "metadata": {
    "collapsed": false
   }
  },
  {
   "cell_type": "code",
   "execution_count": 47,
   "outputs": [],
   "source": [
    "bonus_list = []"
   ],
   "metadata": {
    "collapsed": false
   }
  },
  {
   "cell_type": "code",
   "execution_count": 48,
   "outputs": [],
   "source": [
    "scores.sort(reverse=True)"
   ],
   "metadata": {
    "collapsed": false
   }
  },
  {
   "cell_type": "code",
   "execution_count": 55,
   "outputs": [
    {
     "data": {
      "text/plain": "[[3, 2], [3, 2], [2, 2], [2, 1], [1, 4]]"
     },
     "execution_count": 55,
     "metadata": {},
     "output_type": "execute_result"
    }
   ],
   "source": [
    "scores"
   ],
   "metadata": {
    "collapsed": false
   }
  },
  {
   "cell_type": "code",
   "execution_count": 56,
   "outputs": [],
   "source": [
    "cur_i = scores[0][0]"
   ],
   "metadata": {
    "collapsed": false
   }
  },
  {
   "cell_type": "code",
   "execution_count": 57,
   "outputs": [],
   "source": [
    "max_j = 0"
   ],
   "metadata": {
    "collapsed": false
   }
  },
  {
   "cell_type": "code",
   "execution_count": 58,
   "outputs": [],
   "source": [
    "temp_max_j = scores[0][1]"
   ],
   "metadata": {
    "collapsed": false
   }
  },
  {
   "cell_type": "code",
   "execution_count": null,
   "outputs": [],
   "source": [],
   "metadata": {
    "collapsed": false
   }
  },
  {
   "cell_type": "code",
   "execution_count": 50,
   "outputs": [],
   "source": [
    "cur_i = scores[0][0]"
   ],
   "metadata": {
    "collapsed": false
   }
  },
  {
   "cell_type": "code",
   "execution_count": 51,
   "outputs": [
    {
     "data": {
      "text/plain": "3"
     },
     "execution_count": 51,
     "metadata": {},
     "output_type": "execute_result"
    }
   ],
   "source": [
    "cur_i"
   ],
   "metadata": {
    "collapsed": false
   }
  },
  {
   "cell_type": "code",
   "execution_count": 52,
   "outputs": [],
   "source": [
    "max_j = 0"
   ],
   "metadata": {
    "collapsed": false
   }
  },
  {
   "cell_type": "code",
   "execution_count": 53,
   "outputs": [],
   "source": [
    "temp_max_j = scores[0][1]"
   ],
   "metadata": {
    "collapsed": false
   }
  },
  {
   "cell_type": "code",
   "execution_count": 54,
   "outputs": [],
   "source": [
    "answer =1"
   ],
   "metadata": {
    "collapsed": false
   }
  }
 ],
 "metadata": {
  "kernelspec": {
   "display_name": "Python 3",
   "language": "python",
   "name": "python3"
  },
  "language_info": {
   "codemirror_mode": {
    "name": "ipython",
    "version": 2
   },
   "file_extension": ".py",
   "mimetype": "text/x-python",
   "name": "python",
   "nbconvert_exporter": "python",
   "pygments_lexer": "ipython2",
   "version": "2.7.6"
  }
 },
 "nbformat": 4,
 "nbformat_minor": 0
}
