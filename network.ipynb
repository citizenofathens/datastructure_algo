{
 "cells": [
  {
   "cell_type": "code",
   "execution_count": null,
   "metadata": {
    "collapsed": true
   },
   "outputs": [],
   "source": [
    "\n",
    "def solution(n, computers):\n",
    "\n",
    "\n",
    "    bfs = []\n",
    "    # 시작 노드 입력\n",
    "    bfs.append(0)\n",
    "    network_cnt = 0\n",
    "    visited = [0] * n\n",
    "\n",
    "    while 0 in visited:\n",
    "        # 어떤 위치의 0이든 상관없다\n",
    "\n",
    "        bfs.append(visited.index(0))\n",
    "        while bfs:\n",
    "            node = bfs.pop(0)\n",
    "            # node는 인덱스\n",
    "            visited[node] = 1\n",
    "\n",
    "\n",
    "            for i in range(len(computers)):\n",
    "                if visited[i] == 0 and computers[node][i] == 1:\n",
    "                    bfs.append(i)\n",
    "                    visited[i] = 1\n",
    "\n",
    "\n",
    "        network_cnt += 1\n",
    "\n",
    "    return network_cnt"
   ]
  },
  {
   "cell_type": "code",
   "execution_count": 10,
   "outputs": [],
   "source": [
    "bfs = []\n",
    "bfs.append(0)\n",
    "network_cnt = 0\n",
    "visited = [0] * 3"
   ],
   "metadata": {
    "collapsed": false,
    "pycharm": {
     "name": "#%%\n"
    }
   }
  },
  {
   "cell_type": "code",
   "execution_count": 11,
   "outputs": [
    {
     "name": "stdout",
     "output_type": "stream",
     "text": [
      "0 [0] [1, 0, 0]\n"
     ]
    }
   ],
   "source": [
    "while 0 in visited:\n",
    "    bfs.append(visited.index(0))\n",
    "\n",
    "    while bfs:\n",
    "        node = bfs.pop(0)\n",
    "        # node는 인덱스\n",
    "        visited[node] = 1\n",
    "        print(node,bfs,visited)\n",
    "        break\n",
    "    break\n"
   ],
   "metadata": {
    "collapsed": false,
    "pycharm": {
     "name": "#%%\n"
    }
   }
  },
  {
   "cell_type": "code",
   "execution_count": 34,
   "outputs": [],
   "source": [
    "computers = [[1, 1, 0], [1, 1, 0], [0, 0, 1]]"
   ],
   "metadata": {
    "collapsed": false,
    "pycharm": {
     "name": "#%%\n"
    }
   }
  },
  {
   "cell_type": "code",
   "execution_count": 36,
   "outputs": [
    {
     "data": {
      "text/plain": "[0, 0, 1]"
     },
     "execution_count": 36,
     "metadata": {},
     "output_type": "execute_result"
    }
   ],
   "source": [
    "computers.pop(2)"
   ],
   "metadata": {
    "collapsed": false,
    "pycharm": {
     "name": "#%%\n"
    }
   }
  },
  {
   "cell_type": "code",
   "execution_count": null,
   "outputs": [],
   "source": [
    "n= 3\n",
    "network_cnt= 0"
   ],
   "metadata": {
    "collapsed": false,
    "pycharm": {
     "name": "#%%\n"
    }
   }
  },
  {
   "cell_type": "code",
   "execution_count": 39,
   "outputs": [],
   "source": [
    "# 스스로 코딩하다 보면 내가 모르고 부족한 부분을 배운다\n",
    "# 매번 순회하면서 처리하는 게 아니라\n",
    "# 하나의 노드를 방문해서 깊숙이 끝까지 처리해야한다\n",
    "# 결국 또 봤네\n",
    "#\n",
    "visited = [0 for _ in range(n)]\n",
    "dfs = []\n",
    "# 방문하지 않은 노드가 있다면\n",
    "# 최초노드\n",
    "dfs.append(visited.index(0))"
   ],
   "metadata": {
    "collapsed": false,
    "pycharm": {
     "name": "#%%\n"
    }
   }
  },
  {
   "cell_type": "code",
   "execution_count": 40,
   "outputs": [
    {
     "data": {
      "text/plain": "[]"
     },
     "execution_count": 40,
     "metadata": {},
     "output_type": "execute_result"
    }
   ],
   "source": [
    "dfs"
   ],
   "metadata": {
    "collapsed": false,
    "pycharm": {
     "name": "#%%\n"
    }
   }
  },
  {
   "cell_type": "code",
   "execution_count": null,
   "outputs": [],
   "source": [
    "while 0 in visited:\n",
    "    # computers.pop(0)? x 리스트는 인덱스가 변한다 그럼 node는 어디에서 ?\n",
    "    while dfs:\n",
    "        # 연결된 노드 있다면 계속 방문\n",
    "        node = dfs.pop(0)\n",
    "        visited[idx] = 1\n",
    "\n",
    "        for idx , val in enumerate(node):\n",
    "            # 해당 노드와 연결되어 있고 방문하지 않았다면 network count +1\n",
    "            if val == 1 and visited[idx] == 0:\n",
    "                # 연결되어 있고 방문하지 않았다면 방문처리\n",
    "                dfs.append()\n",
    "    network_cnt +=1"
   ],
   "metadata": {
    "collapsed": false,
    "pycharm": {
     "name": "#%%\n"
    }
   }
  },
  {
   "cell_type": "code",
   "execution_count": 41,
   "outputs": [],
   "source": [
    "\n",
    "visited = [0] * n"
   ],
   "metadata": {
    "collapsed": false,
    "pycharm": {
     "name": "#%%\n"
    }
   }
  },
  {
   "cell_type": "code",
   "execution_count": 43,
   "outputs": [],
   "source": [
    "bfs.append(visited.index(0))"
   ],
   "metadata": {
    "collapsed": false,
    "pycharm": {
     "name": "#%%\n"
    }
   }
  },
  {
   "cell_type": "code",
   "execution_count": 44,
   "outputs": [
    {
     "data": {
      "text/plain": "[0, 0]"
     },
     "execution_count": 44,
     "metadata": {},
     "output_type": "execute_result"
    }
   ],
   "source": [
    "bfs"
   ],
   "metadata": {
    "collapsed": false,
    "pycharm": {
     "name": "#%%\n"
    }
   }
  },
  {
   "cell_type": "code",
   "execution_count": null,
   "outputs": [],
   "source": [
    "computers"
   ],
   "metadata": {
    "collapsed": false,
    "pycharm": {
     "name": "#%%\n"
    }
   }
  },
  {
   "cell_type": "code",
   "execution_count": 31,
   "outputs": [
    {
     "data": {
      "text/plain": "3"
     },
     "execution_count": 31,
     "metadata": {},
     "output_type": "execute_result"
    }
   ],
   "source": [
    "network_cnt"
   ],
   "metadata": {
    "collapsed": false,
    "pycharm": {
     "name": "#%%\n"
    }
   }
  },
  {
   "cell_type": "code",
   "execution_count": null,
   "outputs": [],
   "source": [
    "visited"
   ],
   "metadata": {
    "collapsed": false,
    "pycharm": {
     "name": "#%%\n"
    }
   }
  },
  {
   "cell_type": "code",
   "execution_count": null,
   "outputs": [],
   "source": [
    "        #%"
   ],
   "metadata": {
    "collapsed": false,
    "pycharm": {
     "name": "#%%\n"
    }
   }
  }
 ],
 "metadata": {
  "kernelspec": {
   "display_name": "Python 3",
   "language": "python",
   "name": "python3"
  },
  "language_info": {
   "codemirror_mode": {
    "name": "ipython",
    "version": 2
   },
   "file_extension": ".py",
   "mimetype": "text/x-python",
   "name": "python",
   "nbconvert_exporter": "python",
   "pygments_lexer": "ipython2",
   "version": "2.7.6"
  }
 },
 "nbformat": 4,
 "nbformat_minor": 0
}