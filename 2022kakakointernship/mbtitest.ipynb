{
 "cells": [
  {
   "cell_type": "code",
   "execution_count": 6,
   "metadata": {
    "collapsed": true
   },
   "outputs": [],
   "source": [
    "\n"
   ]
  },
  {
   "cell_type": "code",
   "execution_count": 4,
   "outputs": [],
   "source": [
    "# 놓치고 있던 것\n",
    "# 지표의 값에 딕셔너리로 추가한다\n",
    "\n",
    "\n",
    "# 비동의시 첫번째 캐릭터의 성격 유형 점수를 가져간다"
   ],
   "metadata": {
    "collapsed": false,
    "pycharm": {
     "name": "#%%\n"
    }
   }
  },
  {
   "cell_type": "code",
   "execution_count": null,
   "outputs": [],
   "source": [
    "if == 1\n",
    "\n",
    "if == 2\n",
    "\n",
    "if == 3\n",
    "\n",
    "if == 5:\n",
    "    mbti_dict[survey[idx][1]] +=1\n",
    "\n",
    "    mbti_dict[survey[idx][1]] +=2\n",
    "\n",
    "    mbti_dict[survey[idx][1]] +=3"
   ],
   "metadata": {
    "collapsed": false,
    "pycharm": {
     "name": "#%%\n"
    }
   }
  },
  {
   "cell_type": "code",
   "execution_count": 38,
   "outputs": [
    {
     "data": {
      "text/plain": "{'R': 0, 'T': 1}"
     },
     "execution_count": 38,
     "metadata": {},
     "output_type": "execute_result"
    }
   ],
   "source": [
    "mbti_dict"
   ],
   "metadata": {
    "collapsed": false,
    "pycharm": {
     "name": "#%%\n"
    }
   }
  },
  {
   "cell_type": "code",
   "execution_count": 39,
   "outputs": [
    {
     "ename": "KeyError",
     "evalue": "'N'",
     "output_type": "error",
     "traceback": [
      "\u001B[1;31m---------------------------------------------------------------------------\u001B[0m",
      "\u001B[1;31mKeyError\u001B[0m                                  Traceback (most recent call last)",
      "\u001B[1;32m<ipython-input-39-2dae1f2e33ad>\u001B[0m in \u001B[0;36m<module>\u001B[1;34m\u001B[0m\n\u001B[0;32m      9\u001B[0m         \u001B[0mmbti_dict\u001B[0m\u001B[1;33m[\u001B[0m\u001B[0msurvey\u001B[0m\u001B[1;33m[\u001B[0m\u001B[0midx\u001B[0m\u001B[1;33m]\u001B[0m\u001B[1;33m[\u001B[0m\u001B[1;36m0\u001B[0m\u001B[1;33m]\u001B[0m\u001B[1;33m]\u001B[0m \u001B[1;33m+=\u001B[0m \u001B[1;36m2\u001B[0m\u001B[1;33m\u001B[0m\u001B[1;33m\u001B[0m\u001B[0m\n\u001B[0;32m     10\u001B[0m     \u001B[1;32melif\u001B[0m \u001B[0mchoice\u001B[0m \u001B[1;33m==\u001B[0m \u001B[1;36m5\u001B[0m\u001B[1;33m:\u001B[0m\u001B[1;33m\u001B[0m\u001B[1;33m\u001B[0m\u001B[0m\n\u001B[1;32m---> 11\u001B[1;33m         \u001B[0mmbti_dict\u001B[0m\u001B[1;33m[\u001B[0m\u001B[0msurvey\u001B[0m\u001B[1;33m[\u001B[0m\u001B[0midx\u001B[0m\u001B[1;33m]\u001B[0m\u001B[1;33m[\u001B[0m\u001B[1;36m1\u001B[0m\u001B[1;33m]\u001B[0m\u001B[1;33m]\u001B[0m \u001B[1;33m+=\u001B[0m \u001B[1;36m1\u001B[0m\u001B[1;33m\u001B[0m\u001B[1;33m\u001B[0m\u001B[0m\n\u001B[0m\u001B[0;32m     12\u001B[0m     \u001B[1;32melif\u001B[0m \u001B[0mchoice\u001B[0m \u001B[1;33m==\u001B[0m \u001B[1;36m6\u001B[0m\u001B[1;33m:\u001B[0m\u001B[1;33m\u001B[0m\u001B[1;33m\u001B[0m\u001B[0m\n\u001B[0;32m     13\u001B[0m         \u001B[0mmbti_dict\u001B[0m\u001B[1;33m[\u001B[0m\u001B[0msurvey\u001B[0m\u001B[1;33m[\u001B[0m\u001B[0midx\u001B[0m\u001B[1;33m]\u001B[0m\u001B[1;33m[\u001B[0m\u001B[1;36m1\u001B[0m\u001B[1;33m]\u001B[0m\u001B[1;33m]\u001B[0m \u001B[1;33m+=\u001B[0m \u001B[1;36m2\u001B[0m\u001B[1;33m\u001B[0m\u001B[1;33m\u001B[0m\u001B[0m\n",
      "\u001B[1;31mKeyError\u001B[0m: 'N'"
     ]
    }
   ],
   "source": [
    "# 코드 축약하는 디테일이 다르다 잘하는 사람하고\n",
    "# 똑똑한 것도 그냥 따라하려하면안되네\n",
    " # 아니면 그게맞지만 서툴러서 그런가 어쨌든 배워야할건맞는듯\n",
    "# %%"
   ],
   "metadata": {
    "collapsed": false,
    "pycharm": {
     "name": "#%%\n"
    }
   }
  },
  {
   "cell_type": "code",
   "execution_count": 39,
   "outputs": [],
   "source": [
    "mbti_dict = {\"R\":0, \"T\":0, \"C\":0, \"F\":0, \"J\":0, \"M\":0,\"A\":0,\"N\":0}\n",
    "survey = [\"AN\", \"CF\", \"MJ\", \"RT\", \"NA\"]\n",
    "choices = [5, 3, 2, 7, 5]\n",
    "answer = \"\""
   ],
   "metadata": {
    "collapsed": false,
    "pycharm": {
     "name": "#%%\n"
    }
   }
  },
  {
   "cell_type": "code",
   "execution_count": 40,
   "outputs": [],
   "source": [
    "answer = \"\"\n",
    "for idx,choice in enumerate(choices):\n",
    "    if choice == 1:\n",
    "        mbti_dict[survey[idx][0]] += 3\n",
    "    elif choice == 2:\n",
    "        mbti_dict[survey[idx][0]] += 2\n",
    "    elif choice == 3:\n",
    "        mbti_dict[survey[idx][0]] += 1\n",
    "    elif choice == 5:\n",
    "        mbti_dict[survey[idx][1]] += 1\n",
    "    elif choice == 6:\n",
    "        mbti_dict[survey[idx][1]] += 2\n",
    "    elif choice == 7:\n",
    "        mbti_dict[survey[idx][1]] += 3\n",
    "    else:\n",
    "        pass\n",
    "\n",
    "if mbti_dict['R'] == mbti_dict['T']:\n",
    "    answer += sorted('RT')[0]\n",
    "elif mbti_dict['R'] > mbti_dict['T']:\n",
    "    answer += \"R\"\n",
    "else:\n",
    "    answer += \"T\"\n",
    "\n",
    "if mbti_dict['C'] == mbti_dict['F']:\n",
    "    answer += sorted('CF')[0]\n",
    "elif mbti_dict['C'] > mbti_dict['F']:\n",
    "    answer += \"C\"\n",
    "else:\n",
    "    answer += \"F\"\n",
    "\n",
    "if mbti_dict['J'] == mbti_dict['M']:\n",
    "    answer += sorted('JM')[0]\n",
    "elif mbti_dict['J'] > mbti_dict['M']:\n",
    "    answer += \"J\"\n",
    "else:\n",
    "    answer += \"M\"\n",
    "\n",
    "\n",
    "if mbti_dict['A'] == mbti_dict['N']:\n",
    "    answer += sorted('AN')[0]\n",
    "elif mbti_dict['A'] > mbti_dict['N']:\n",
    "    answer += \"A\"\n",
    "else:\n",
    "    answer += \"N\""
   ],
   "metadata": {
    "collapsed": false,
    "pycharm": {
     "name": "#%%\n"
    }
   }
  },
  {
   "cell_type": "code",
   "execution_count": 41,
   "outputs": [
    {
     "data": {
      "text/plain": "'TCMA'"
     },
     "execution_count": 41,
     "metadata": {},
     "output_type": "execute_result"
    }
   ],
   "source": [
    "answer"
   ],
   "metadata": {
    "collapsed": false,
    "pycharm": {
     "name": "#%%\n"
    }
   }
  },
  {
   "cell_type": "code",
   "execution_count": null,
   "outputs": [],
   "source": [
    "# 바킹독 보고 축약\n",
    "# 역시 쓸 수 있는 사고가 중요\n",
    "#  축약하지 않았을 때 코드는 오히려 문제를 잘못 이해한 거였다\n",
    "# choice 1- 1점이 아니라 매우 비동의로 3점을 부여해야 한다\n",
    "# 근데 축약한 거만 다른사람꺼배워서 내 원래 단순한 생각에 결합하니 꼬였던거네\n",
    "# 역시 1차자료를 기본으로 성장하는게 나을듯 축약이 똒똑하긴한데\n",
    "# 부분적으로 배우게되는걸 경계하자\n",
    "# 책읽느사고로 천천히 성장하는게나을지도\n",
    "# 그 똑똑한걸 베끼니 꼬였다\n",
    "# 0번이 비동의라는건 알고있었는데\n",
    "# 어쩌면 그냥 똑똒해보이고 매력적으로보이니 그냥 베낀거고 나도 연습하고 하면 그런 축약 할 수 있을텐데\n",
    "# 스스로의 가치를 더 발견하자"
   ],
   "metadata": {
    "collapsed": false,
    "pycharm": {
     "name": "#%%\n"
    }
   }
  },
  {
   "cell_type": "code",
   "execution_count": 34,
   "outputs": [],
   "source": [
    "mbti_dict = {\"R\":0, \"T\":0, \"C\":0, \"F\":0, \"J\":0, \"M\":0,\"A\":0,\"N\":0}\n",
    "survey = [\"AN\", \"CF\", \"MJ\", \"RT\", \"NA\"]\n",
    "choices = [5, 3, 2, 7, 5]\n",
    "answer = \"\""
   ],
   "metadata": {
    "collapsed": false,
    "pycharm": {
     "name": "#%%\n"
    }
   }
  },
  {
   "cell_type": "code",
   "execution_count": 35,
   "outputs": [
    {
     "data": {
      "text/plain": "{'R': 0, 'T': 0, 'C': 0, 'F': 0, 'J': 0, 'M': 0, 'A': 0, 'N': 0}"
     },
     "execution_count": 35,
     "metadata": {},
     "output_type": "execute_result"
    }
   ],
   "source": [
    "mbti_dict"
   ],
   "metadata": {
    "collapsed": false,
    "pycharm": {
     "name": "#%%\n"
    }
   }
  },
  {
   "cell_type": "code",
   "execution_count": 36,
   "outputs": [],
   "source": [
    "for idx,choice in enumerate(choices):\n",
    "    if choice >= 4:\n",
    "        mbti_dict[survey[idx][1]] += choice -4\n",
    "        # mbti_dict[survey[idx][0]] += choice -4\n",
    "    elif choice ==4:\n",
    "        pass\n",
    "    else:\n",
    "        mbti_dict[survey[idx][0]] += 4 - choice\n",
    "        # mbti_dict[survey[idx][1]] += 4 - choice\n",
    "    # 축약할 수 있으면 더 똑똑하게 이해한 것이고 코드도 더 간결해지니\n",
    "    # 디버깅도 더 나아진다 코드간결성으로\n",
    "    # **어떤 알파벳이 빠른 지 알면 >= < 를 어떤 알파벳에 부여할 지 결정할 수 있다**\n",
    "    # 분기를 그렇게 이용할 수도 있네\n",
    "    # 사전순 느린 알파벳에 작은 부호를 줘야 나머지 케이스에 커버할 수 있도록\n",
    "    # 할수있다\n",
    "if mbti_dict['R'] < mbti_dict['T']:\n",
    "    answer += 'T'\n",
    "else:\n",
    "    answer += 'R'\n",
    "\n",
    "if mbti_dict['C'] < mbti_dict['F']:\n",
    "    answer += 'F'\n",
    "else:\n",
    "    answer += 'C'\n",
    "\n",
    "if mbti_dict['J'] < mbti_dict['M']:\n",
    "    answer += 'M'\n",
    "else:\n",
    "    answer += 'J'\n",
    "if mbti_dict['A'] < mbti_dict['N']:\n",
    "    answer += 'N'\n",
    "else:\n",
    "    answer += 'A'"
   ],
   "metadata": {
    "collapsed": false,
    "pycharm": {
     "name": "#%%\n"
    }
   }
  },
  {
   "cell_type": "code",
   "execution_count": 37,
   "outputs": [
    {
     "data": {
      "text/plain": "'TCMA'"
     },
     "execution_count": 37,
     "metadata": {},
     "output_type": "execute_result"
    }
   ],
   "source": [
    "answer"
   ],
   "metadata": {
    "collapsed": false,
    "pycharm": {
     "name": "#%%\n"
    }
   }
  },
  {
   "cell_type": "code",
   "execution_count": null,
   "outputs": [],
   "source": [
    "sorted('RT')"
   ],
   "metadata": {
    "collapsed": false,
    "pycharm": {
     "name": "#%%\n"
    }
   }
  },
  {
   "cell_type": "code",
   "execution_count": 21,
   "outputs": [
    {
     "data": {
      "text/plain": "['C', 'F']"
     },
     "execution_count": 21,
     "metadata": {},
     "output_type": "execute_result"
    }
   ],
   "source": [
    "sorted(\"CF\")"
   ],
   "metadata": {
    "collapsed": false,
    "pycharm": {
     "name": "#%%\n"
    }
   }
  },
  {
   "cell_type": "code",
   "execution_count": 22,
   "outputs": [
    {
     "data": {
      "text/plain": "['J', 'M']"
     },
     "execution_count": 22,
     "metadata": {},
     "output_type": "execute_result"
    }
   ],
   "source": [
    "sorted(\"JM\")"
   ],
   "metadata": {
    "collapsed": false,
    "pycharm": {
     "name": "#%%\n"
    }
   }
  },
  {
   "cell_type": "code",
   "execution_count": 23,
   "outputs": [
    {
     "data": {
      "text/plain": "['A', 'N']"
     },
     "execution_count": 23,
     "metadata": {},
     "output_type": "execute_result"
    }
   ],
   "source": [
    "sorted(\"AN\")"
   ],
   "metadata": {
    "collapsed": false,
    "pycharm": {
     "name": "#%%\n"
    }
   }
  },
  {
   "cell_type": "code",
   "execution_count": null,
   "outputs": [],
   "source": [
    "    # if choice == 1:\n",
    "    #     mbti_dict[survey[idx][0]] += 1\n",
    "    # elif choice == 2:\n",
    "    #     mbti_dict[survey[idx][0]] += 2\n",
    "    # elif choice == 3:\n",
    "    #     mbti_dict[survey[idx][0]] += 3\n",
    "    # elif choice == 5:\n",
    "    #     mbti_dict[survey[idx][1]] += 1\n",
    "    # elif choice == 6:\n",
    "    #     mbti_dict[survey[idx][1]] += 2\n",
    "    # elif choice == 7:\n",
    "    #     mbti_dict[survey[idx][1]] += 3\n",
    "    # else:\n",
    "    #     pass\n",
    "\n",
    "    # if mbti_dict['R'] == mbti_dict['T']:\n",
    "    #     answer += sorted('RT')[0]\n",
    "    # elif mbti_dict['R'] > mbti_dict['T']:\n",
    "    #     answer += \"R\"\n",
    "    # else:\n",
    "    #     answer += \"T\"\n",
    "    #\n",
    "    # if mbti_dict['C'] == mbti_dict['F']:\n",
    "    #     answer += sorted('CF')[0]\n",
    "    # elif mbti_dict['C'] > mbti_dict['F']:\n",
    "    #     answer += \"C\"\n",
    "    # else:\n",
    "    #     answer += \"F\"\n",
    "    #\n",
    "    # if mbti_dict['J'] == mbti_dict['M']:\n",
    "    #     answer += sorted('JM')[0]\n",
    "    # elif mbti_dict['J'] > mbti_dict['M']:\n",
    "    #     answer += \"J\"\n",
    "    # else:\n",
    "    #     answer += \"M\"\n",
    "    #\n",
    "    # if mbti_dict['A'] == mbti_dict['N']:\n",
    "    #     answer += sorted('AN')[0]\n",
    "    # elif mbti_dict['A'] > mbti_dict['N']:\n",
    "    #     answer += \"A\"\n",
    "    # else:\n",
    "    #     answer += \"N\""
   ],
   "metadata": {
    "collapsed": false,
    "pycharm": {
     "name": "#%%\n"
    }
   }
  },
  {
   "cell_type": "code",
   "execution_count": null,
   "outputs": [],
   "source": [],
   "metadata": {
    "collapsed": false,
    "pycharm": {
     "name": "#%%\n"
    }
   }
  },
  {
   "cell_type": "code",
   "execution_count": null,
   "outputs": [],
   "source": [
    "    # answer += max(mbti_dict['R'],mbti_dict['T'])"
   ],
   "metadata": {
    "collapsed": false,
    "pycharm": {
     "name": "#%%\n"
    }
   }
  },
  {
   "cell_type": "code",
   "execution_count": 15,
   "outputs": [
    {
     "data": {
      "text/plain": "'R'"
     },
     "execution_count": 15,
     "metadata": {},
     "output_type": "execute_result"
    }
   ],
   "source": [
    "sorted(\"RT\")[0]"
   ],
   "metadata": {
    "collapsed": false,
    "pycharm": {
     "name": "#%%\n"
    }
   }
  },
  {
   "cell_type": "code",
   "execution_count": 13,
   "outputs": [
    {
     "ename": "TypeError",
     "evalue": "'>' not supported between instances of 'generator' and 'generator'",
     "output_type": "error",
     "traceback": [
      "\u001B[1;31m---------------------------------------------------------------------------\u001B[0m",
      "\u001B[1;31mTypeError\u001B[0m                                 Traceback (most recent call last)",
      "\u001B[1;32m<ipython-input-13-c7e6ff4e9bdc>\u001B[0m in \u001B[0;36m<module>\u001B[1;34m\u001B[0m\n\u001B[1;32m----> 1\u001B[1;33m \u001B[0mmax\u001B[0m\u001B[1;33m(\u001B[0m\u001B[0mmbti_dict\u001B[0m\u001B[1;33m,\u001B[0m\u001B[0mkey\u001B[0m\u001B[1;33m=\u001B[0m\u001B[0mget_mbti\u001B[0m\u001B[1;33m)\u001B[0m\u001B[1;33m\u001B[0m\u001B[1;33m\u001B[0m\u001B[0m\n\u001B[0m",
      "\u001B[1;31mTypeError\u001B[0m: '>' not supported between instances of 'generator' and 'generator'"
     ]
    }
   ],
   "source": [
    "max(mbti_dict,key=get_mbti)"
   ],
   "metadata": {
    "collapsed": false,
    "pycharm": {
     "name": "#%%\n"
    }
   }
  },
  {
   "cell_type": "code",
   "execution_count": 12,
   "outputs": [],
   "source": [
    "def get_mbti(data):\n",
    "    yield 'R'\n",
    "    yield 'T'"
   ],
   "metadata": {
    "collapsed": false,
    "pycharm": {
     "name": "#%%\n"
    }
   }
  },
  {
   "cell_type": "code",
   "execution_count": 7,
   "outputs": [
    {
     "data": {
      "text/plain": "<function dict.get(key, default=None, /)>"
     },
     "execution_count": 7,
     "metadata": {},
     "output_type": "execute_result"
    }
   ],
   "source": [],
   "metadata": {
    "collapsed": false,
    "pycharm": {
     "name": "#%%\n"
    }
   }
  },
  {
   "cell_type": "code",
   "execution_count": 37,
   "outputs": [
    {
     "data": {
      "text/plain": "{'R': 0, 'T': 1}"
     },
     "execution_count": 37,
     "metadata": {},
     "output_type": "execute_result"
    }
   ],
   "source": [],
   "metadata": {
    "collapsed": false,
    "pycharm": {
     "name": "#%%\n"
    }
   }
  },
  {
   "cell_type": "code",
   "execution_count": null,
   "outputs": [],
   "source": [
    "max(di,key=di.get) # di.get 이용\n",
    "[k for k,v in di.items() if max(di.values()) == v] #"
   ],
   "metadata": {
    "collapsed": false,
    "pycharm": {
     "name": "#%%\n"
    }
   }
  },
  {
   "cell_type": "code",
   "execution_count": 40,
   "outputs": [
    {
     "data": {
      "text/plain": "{'R': 0, 'T': 1}"
     },
     "execution_count": 40,
     "metadata": {},
     "output_type": "execute_result"
    }
   ],
   "source": [
    "mbti_dict"
   ],
   "metadata": {
    "collapsed": false,
    "pycharm": {
     "name": "#%%\n"
    }
   }
  },
  {
   "cell_type": "code",
   "execution_count": 31,
   "outputs": [],
   "source": [
    "mbti_dict = dict(zip('RT',range(4))) # zip 함수를 사용해 dict 생성: zip(key list, value list)"
   ],
   "metadata": {
    "collapsed": false,
    "pycharm": {
     "name": "#%%\n"
    }
   }
  },
  {
   "cell_type": "code",
   "execution_count": 32,
   "outputs": [
    {
     "data": {
      "text/plain": "{'R': 0, 'T': 1}"
     },
     "execution_count": 32,
     "metadata": {},
     "output_type": "execute_result"
    }
   ],
   "source": [
    "mbti_dict"
   ],
   "metadata": {
    "collapsed": false,
    "pycharm": {
     "name": "#%%\n"
    }
   }
  },
  {
   "cell_type": "code",
   "execution_count": null,
   "outputs": [],
   "source": [
    "mbti_dict"
   ],
   "metadata": {
    "collapsed": false,
    "pycharm": {
     "name": "#%%\n"
    }
   }
  },
  {
   "cell_type": "code",
   "execution_count": null,
   "outputs": [],
   "source": [
    "    #%%"
   ],
   "metadata": {
    "collapsed": false,
    "pycharm": {
     "name": "#%%\n"
    }
   }
  },
  {
   "cell_type": "code",
   "execution_count": 10,
   "outputs": [],
   "source": [
    "answer = \"\"\n",
    "for idx,choice in enumerate(choices):\n",
    "    if choice <= 3:\n",
    "        answer += survey[idx][0]\n",
    "    elif choice == 4:\n",
    "        pass\n",
    "    else:\n",
    "        answer += survey[idx][1]"
   ],
   "metadata": {
    "collapsed": false,
    "pycharm": {
     "name": "#%%\n"
    }
   }
  },
  {
   "cell_type": "code",
   "execution_count": 11,
   "outputs": [
    {
     "data": {
      "text/plain": "'NCMTA'"
     },
     "execution_count": 11,
     "metadata": {},
     "output_type": "execute_result"
    }
   ],
   "source": [
    "answer"
   ],
   "metadata": {
    "collapsed": false,
    "pycharm": {
     "name": "#%%\n"
    }
   }
  },
  {
   "cell_type": "code",
   "execution_count": 2,
   "outputs": [
    {
     "data": {
      "text/plain": "['A', 'N']"
     },
     "execution_count": 2,
     "metadata": {},
     "output_type": "execute_result"
    }
   ],
   "source": [
    "sorted(\"NA\")"
   ],
   "metadata": {
    "collapsed": false,
    "pycharm": {
     "name": "#%%\n"
    }
   }
  },
  {
   "cell_type": "code",
   "execution_count": null,
   "outputs": [],
   "source": [],
   "metadata": {
    "collapsed": false,
    "pycharm": {
     "name": "#%%\n"
    }
   }
  },
  {
   "cell_type": "code",
   "execution_count": null,
   "outputs": [],
   "source": [
    "return answer\n",
    "\n",
    "# survey[i] A : 비동의선택지시 성격유형\n",
    "#           N : 동의 쪽 선택지시"
   ],
   "metadata": {
    "collapsed": false,
    "pycharm": {
     "name": "#%%\n"
    }
   }
  }
 ],
 "metadata": {
  "kernelspec": {
   "display_name": "Python 3",
   "language": "python",
   "name": "python3"
  },
  "language_info": {
   "codemirror_mode": {
    "name": "ipython",
    "version": 2
   },
   "file_extension": ".py",
   "mimetype": "text/x-python",
   "name": "python",
   "nbconvert_exporter": "python",
   "pygments_lexer": "ipython2",
   "version": "2.7.6"
  }
 },
 "nbformat": 4,
 "nbformat_minor": 0
}