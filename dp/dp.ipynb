{
 "cells": [
  {
   "cell_type": "code",
   "execution_count": null,
   "outputs": [],
   "source": [
    "#다음 스텝도 생각하지 않고 손부터 나갈 때\n",
    "def solution(m, n, puddles):\n",
    "    # 오른쪽과 아래로만 갈 수 있는 최단 경로\n",
    "    # move_right, move_down\n",
    "\n",
    "    # 물이 잠긴 지역은 회피\n",
    "    dp = []\n",
    "\n",
    "    move_right = (x+1,y)\n",
    "    move_down = (x, y+1)\n",
    "\n",
    "    curr = (1,1)\n",
    "\n",
    "\n",
    "\n",
    "    puddles\n",
    "\n",
    "    answer = 0\n",
    "    return answer\n",
    "\n",
    "def OOB(x,y)\n",
    "    if x > m or x<1 or y>3 or y<1:\n",
    "        return"
   ],
   "metadata": {
    "collapsed": false,
    "pycharm": {
     "name": "#%%\n"
    }
   }
  },
  {
   "cell_type": "code",
   "execution_count": 1,
   "metadata": {
    "collapsed": true,
    "pycharm": {
     "name": "#%%\n"
    }
   },
   "outputs": [],
   "source": [
    "import numpy as np"
   ]
  },
  {
   "cell_type": "code",
   "execution_count": 5,
   "outputs": [],
   "source": [
    "ground = np.zeros((3,4),dtype=np.int32).tolist()"
   ],
   "metadata": {
    "collapsed": false,
    "pycharm": {
     "name": "#%%\n"
    }
   }
  },
  {
   "cell_type": "code",
   "execution_count": 8,
   "outputs": [],
   "source": [
    "curr_x , curr_y = 1,1"
   ],
   "metadata": {
    "collapsed": false,
    "pycharm": {
     "name": "#%%\n"
    }
   }
  },
  {
   "cell_type": "code",
   "execution_count": 9,
   "outputs": [],
   "source": [
    "curr = curr_x-1,curr_y-1"
   ],
   "metadata": {
    "collapsed": false,
    "pycharm": {
     "name": "#%%\n"
    }
   }
  },
  {
   "cell_type": "code",
   "execution_count": 12,
   "outputs": [
    {
     "data": {
      "text/plain": "0"
     },
     "execution_count": 12,
     "metadata": {},
     "output_type": "execute_result"
    }
   ],
   "source": [
    "ground[curr[0]][curr[1]]"
   ],
   "metadata": {
    "collapsed": false,
    "pycharm": {
     "name": "#%%\n"
    }
   }
  },
  {
   "cell_type": "code",
   "execution_count": 13,
   "outputs": [],
   "source": [
    "def move_right(x,y):\n",
    "    x = x+1\n",
    "    return x,y\n",
    "\n",
    "def move_down(x,y):\n",
    "    y = y-1\n",
    "    return x,y"
   ],
   "metadata": {
    "collapsed": false,
    "pycharm": {
     "name": "#%%\n"
    }
   }
  },
  {
   "cell_type": "code",
   "execution_count": 23,
   "outputs": [
    {
     "data": {
      "text/plain": "5"
     },
     "execution_count": 23,
     "metadata": {},
     "output_type": "execute_result"
    }
   ],
   "source": [
    "m,n=4,3\n"
   ],
   "metadata": {
    "collapsed": false,
    "pycharm": {
     "name": "#%%\n"
    }
   }
  },
  {
   "cell_type": "code",
   "execution_count": null,
   "outputs": [],
   "source": [],
   "metadata": {
    "collapsed": false,
    "pycharm": {
     "name": "#%%\n"
    }
   }
  },
  {
   "cell_type": "code",
   "execution_count": 24,
   "outputs": [],
   "source": [
    "dp = [[] for _ in range(m-1+n-1)]\n"
   ],
   "metadata": {
    "collapsed": false,
    "pycharm": {
     "name": "#%%\n"
    }
   }
  },
  {
   "cell_type": "code",
   "execution_count": 25,
   "outputs": [
    {
     "data": {
      "text/plain": "[[], [], [], [], []]"
     },
     "execution_count": 25,
     "metadata": {},
     "output_type": "execute_result"
    }
   ],
   "source": [
    "dp"
   ],
   "metadata": {
    "collapsed": false,
    "pycharm": {
     "name": "#%%\n"
    }
   }
  },
  {
   "cell_type": "code",
   "execution_count": 28,
   "outputs": [],
   "source": [
    "#1step일 경우 right 한칸 아래 한칸 체크해보고 물웅덩이면 재귀호출하지 않는다\n",
    "# 동시에 갈 필요는 없다\n",
    "# dp에 뭘저장? 탐색한 경로를 dp에 저장해야 반복 탐색안하지\n",
    "# RD 이렇게 탐색하는 건 그때마다 또 탐색해야하고\n",
    "# dp[0] , dp[1] 각 인덱스에는 시행횟수마다 갈 수 있는 경로를 담는다 그리고 그 개수를 세고\n",
    "# 최종 목적지까지 거리 dp[5]에 경우의 수를 담아서 dp 배열을 활용해야지\n",
    "\n",
    "curr_x = 0\n",
    "curr_y = 0"
   ],
   "metadata": {
    "collapsed": false,
    "pycharm": {
     "name": "#%%\n"
    }
   }
  },
  {
   "cell_type": "code",
   "execution_count": null,
   "outputs": [],
   "source": [],
   "metadata": {
    "collapsed": false,
    "pycharm": {
     "name": "#%%\n"
    }
   }
  },
  {
   "cell_type": "code",
   "execution_count": 29,
   "outputs": [],
   "source": [
    "\n",
    "next_step = move_right(curr_x,curr_y)\n"
   ],
   "metadata": {
    "collapsed": false,
    "pycharm": {
     "name": "#%%\n"
    }
   }
  },
  {
   "cell_type": "code",
   "execution_count": 30,
   "outputs": [
    {
     "data": {
      "text/plain": "(1, 0)"
     },
     "execution_count": 30,
     "metadata": {},
     "output_type": "execute_result"
    }
   ],
   "source": [
    "next_step"
   ],
   "metadata": {
    "collapsed": false,
    "pycharm": {
     "name": "#%%\n"
    }
   }
  },
  {
   "cell_type": "code",
   "execution_count": null,
   "outputs": [],
   "source": [
    "def check_puddle(x,y , puddles):\n",
    "    is_puddle = False\n",
    "    for puddle in puddles:\n",
    "        # 물 웅덩이 체크\n",
    "        if x == puddle[0] and y ==puddle[1]:\n",
    "            is_puddle = True\n",
    "            return is_puddle\n",
    "    return is_puddle"
   ],
   "metadata": {
    "collapsed": false,
    "pycharm": {
     "name": "#%%\n"
    }
   }
  },
  {
   "cell_type": "code",
   "execution_count": null,
   "outputs": [],
   "source": [
    "def OOB(x,y,m,n):\n",
    "    if x > m or x<1 or y>n or y<1:\n",
    "        return True\n",
    "    else:\n",
    "        return False"
   ],
   "metadata": {
    "collapsed": false,
    "pycharm": {
     "name": "#%%\n"
    }
   }
  },
  {
   "cell_type": "code",
   "execution_count": 33,
   "outputs": [
    {
     "ename": "SyntaxError",
     "evalue": "unexpected EOF while parsing (197981163.py, line 41)",
     "output_type": "error",
     "traceback": [
      "\u001B[1;36m  Input \u001B[1;32mIn [33]\u001B[1;36m\u001B[0m\n\u001B[1;33m    \u001B[0m\n\u001B[1;37m    ^\u001B[0m\n\u001B[1;31mSyntaxError\u001B[0m\u001B[1;31m:\u001B[0m unexpected EOF while parsing\n"
     ]
    }
   ],
   "source": [
    "puddles = [[2,2]]\n",
    "\n",
    "# dp를 완전히 이해하지는 못한 풀이인듯하다\n",
    "for idx in range(-1, m-1+n-1):\n",
    "\n",
    "    if idx == -1:\n",
    "        curr_x, curr_y = 0,0\n",
    "        nx,ny = move_down(curr_x,curr_y)\n",
    "        is_puddle = check_puddle(nx,ny)\n",
    "\n",
    "        if check_puddle:\n",
    "            pass\n",
    "        else:\n",
    "            dp[idx].append(nx,ny)\n",
    "\n",
    "        nx,ny = move_right(curr_x,curr_y)\n",
    "        is_puddle = check_puddle(nx,ny)\n",
    "\n",
    "        if check_puddle:\n",
    "            pass\n",
    "        else:\n",
    "            dp[idx].append(nx,ny)\n",
    "\n",
    "    else:\n",
    "        dp_list = dp[idx-1]\n",
    "\n",
    "    for curr_dp in dp_list:\n",
    "        curr_x,curr_y = curr_dp[0], curr_dp[1]\n",
    "        nx, ny = move_down(curr_x,curr_y)\n",
    "        is_puddle = check_puddle(nx,ny)\n",
    "        is_oob= OOB(nx,ny,m,n)\n",
    "        # 둘 중 하나라도 True라면 pass\n",
    "        if check_puddle or is_oob:\n",
    "            pass\n",
    "        else:\n",
    "            # 그렇게 추가해나가고  dp가 최단 경로로 최종 길이가 되면 종료인데 최단 경로일수밖에없지 않나 싶다\n",
    "            dp[idx].append(nx,ny)\n",
    "\n",
    "    if idx == m-1+n-1:\n",
    "        return len(dp[idx])\n",
    "\n",
    "\n",
    "\n"
   ],
   "metadata": {
    "collapsed": false,
    "pycharm": {
     "name": "#%%\n"
    }
   }
  },
  {
   "cell_type": "code",
   "execution_count": null,
   "outputs": [],
   "source": [
    "# 데이터 다운로드\n",
    "import urllib.request\n",
    "DOWNLOAD_ROOT = \"https://raw.githubusercontent.com/rickiepark/handson-ml2/master/\"\n",
    "os.makedirs(datapath, exist_ok=True)\n",
    "for filename in (\"oecd_bli_2015.csv\", \"gdp_per_capita.csv\"):\n",
    "    print(\"Downloading\", filename)\n",
    "    url = DOWNLOAD_ROOT + \"datasets/lifesat/\" + filename\n",
    "    urllib.request.urlretrieve(url, datapath + filename)"
   ],
   "metadata": {
    "collapsed": false,
    "pycharm": {
     "name": "#%%\n"
    }
   }
  },
  {
   "cell_type": "code",
   "execution_count": null,
   "outputs": [],
   "source": [
    "# def solution(m,n,puddles):\n",
    "#     puddles =  [[p,q] for [q,p] in puddles]\n",
    "#     dp = [[0] * (m+1) for i in range(n+1)]\n",
    "#     dp[1][1] = 1\n",
    "#     for i in range(1,n+1):\n",
    "#         for j in range(1,m+1):\n",
    "#             if i ==1 and j ==1: continue\n",
    "#             if [i,j] in puddles:\n",
    "#                 dp[i][j]= 0\n",
    "#             else:\n",
    "#                 dp[i][j] = dp[i-1][j]+ dp[i][j-1]\n",
    "#     return dp[-1][-1]"
   ],
   "metadata": {
    "collapsed": false,
    "pycharm": {
     "name": "#%%\n"
    }
   }
  },
  {
   "cell_type": "code",
   "execution_count": 32,
   "outputs": [],
   "source": [],
   "metadata": {
    "collapsed": false,
    "pycharm": {
     "name": "#%%\n"
    }
   }
  },
  {
   "cell_type": "code",
   "execution_count": null,
   "outputs": [],
   "source": [
    "def one_step():\n",
    "\n",
    "\n",
    "while (curr[0],curr[1]) != (m,n):\n",
    "\n",
    "    one_step()\n",
    "\n",
    "    curr = move_right(curr[0],curr[1])\n",
    "    move_down(curr[0],curr[1])"
   ],
   "metadata": {
    "collapsed": false,
    "pycharm": {
     "name": "#%%\n"
    }
   }
  },
  {
   "cell_type": "code",
   "execution_count": 18,
   "outputs": [],
   "source": [
    "def OOB(x,y,m,n):\n",
    "    if x > m or x<1 or y>n or y<1:\n",
    "        return True\n",
    "    else:\n",
    "        return False"
   ],
   "metadata": {
    "collapsed": false,
    "pycharm": {
     "name": "#%%\n"
    }
   }
  },
  {
   "cell_type": "code",
   "execution_count": null,
   "outputs": [],
   "source": [
    "r"
   ],
   "metadata": {
    "collapsed": false,
    "pycharm": {
     "name": "#%%\n"
    }
   }
  }
 ],
 "metadata": {
  "kernelspec": {
   "display_name": "Python 3",
   "language": "python",
   "name": "python3"
  },
  "language_info": {
   "codemirror_mode": {
    "name": "ipython",
    "version": 2
   },
   "file_extension": ".py",
   "mimetype": "text/x-python",
   "name": "python",
   "nbconvert_exporter": "python",
   "pygments_lexer": "ipython2",
   "version": "2.7.6"
  }
 },
 "nbformat": 4,
 "nbformat_minor": 0
}