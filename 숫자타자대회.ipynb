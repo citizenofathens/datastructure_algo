{
 "cells": [
  {
   "cell_type": "code",
   "execution_count": 1,
   "metadata": {
    "collapsed": true
   },
   "outputs": [
    {
     "ename": "SyntaxError",
     "evalue": "invalid syntax (1110200382.py, line 3)",
     "output_type": "error",
     "traceback": [
      "\u001B[1;36m  Input \u001B[1;32mIn [1]\u001B[1;36m\u001B[0m\n\u001B[1;33m    https://comdoc.tistory.com/entry/%EC%88%AB%EC%9E%90-%ED%83%80%EC%9E%90-%EB%8C%80%ED%9A%8C\u001B[0m\n\u001B[1;37m          ^\u001B[0m\n\u001B[1;31mSyntaxError\u001B[0m\u001B[1;31m:\u001B[0m invalid syntax\n"
     ]
    }
   ],
   "source": [
    "# 진짜 하나씩 선택해가면서 푸는데 이거는 무슨\n",
    "# 클릭하는거를 number로 하고 재귀함수로 받아서 number를 넘긴거는 이제 lefthand 가 클릭한거니까\n",
    "# left로 받고 미친완벽한 효율적인 풀이다. 그냥 이 정도를 아는것도 좋은것\n",
    "#\n",
    "https://comdoc.tistory.com/entry/%EC%88%AB%EC%9E%90-%ED%83%80%EC%9E%90-%EB%8C%80%ED%9A%8C"
   ]
  },
  {
   "cell_type": "code",
   "execution_count": 2,
   "outputs": [
    {
     "ename": "SyntaxError",
     "evalue": "cannot assign to function call (2193614571.py, line 11)",
     "output_type": "error",
     "traceback": [
      "\u001B[1;36m  Input \u001B[1;32mIn [2]\u001B[1;36m\u001B[0m\n\u001B[1;33m    right_total = search(left, number, index+1, total) = weights[number][right]\u001B[0m\n\u001B[1;37m                  ^\u001B[0m\n\u001B[1;31mSyntaxError\u001B[0m\u001B[1;31m:\u001B[0m cannot assign to function call\n"
     ]
    }
   ],
   "source": [
    "def solution(numbers):\n",
    "    def search(left, right, index,total):\n",
    "        if len(numbers) == index:\n",
    "            return total\n",
    "        if left == right:\n",
    "            return float('inf')\n",
    "        number = int(numbers[index])\n",
    "        # 손가락 위치는 바뀌어가며 넘겨지고 , 마지막부터 거꾸로 계산하기\n",
    "        left_total = search(number, right, index+1, total) + weights[left][number]\n",
    "        right_total = search(left, number, index+1, total) = weights[number][right]\n",
    "\n",
    "        return min(left_total, right_total)\n",
    "\n",
    "    import sys\n",
    "    sys.setrecursionlimit(300_000)\n",
    "    weights = ((1,7,6,7,5,4,5,3,2,3),\n",
    "               (7,1,2,4,2,3,5,4,5,6),\n",
    "               (6,2,1,2,3,2,3,5,4,5),\n",
    "               (7,4,2,1,5,3,2,6,5,4),\n",
    "               (5,2,3,5,1,2,4,2,3,5),\n",
    "               (4,3,2,3,2,1,2,3,2,3),\n",
    "               (5,5,3,2,4,2,1,5,3,2),\n",
    "               (3,4,5,6,2,3,5,1,2,4),\n",
    "               (2,5,4,5,3,2,3,2,1,2),\n",
    "               (3,6,5,4,5,3,2,4,2,1))\n",
    "    return search(4,6,0,0)"
   ],
   "metadata": {
    "collapsed": false
   }
  },
  {
   "cell_type": "code",
   "execution_count": null,
   "outputs": [],
   "source": [],
   "metadata": {
    "collapsed": false
   }
  }
 ],
 "metadata": {
  "kernelspec": {
   "display_name": "Python 3",
   "language": "python",
   "name": "python3"
  },
  "language_info": {
   "codemirror_mode": {
    "name": "ipython",
    "version": 2
   },
   "file_extension": ".py",
   "mimetype": "text/x-python",
   "name": "python",
   "nbconvert_exporter": "python",
   "pygments_lexer": "ipython2",
   "version": "2.7.6"
  }
 },
 "nbformat": 4,
 "nbformat_minor": 0
}
