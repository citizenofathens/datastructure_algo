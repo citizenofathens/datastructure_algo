{
 "cells": [
  {
   "cell_type": "code",
   "execution_count": null,
   "metadata": {
    "collapsed": true
   },
   "outputs": [],
   "source": []
  },
  {
   "cell_type": "code",
   "execution_count": null,
   "outputs": [],
   "source": [
    "# 엄청나게 대수롭게 여기지는 않는 정신적 행위로 자존감 높여가기\n",
    "\n",
    "def solution(e, starts):\n",
    "    divmos = [ 1 for e in range(e)]\n",
    "    answer = []\n",
    "    for i in range(2,e+1):\n",
    "        for j in range(i,e+1,i):\n",
    "            divmos[j] += 1\n",
    "    start_dict = {}\n",
    "    memoization =0\n",
    "    for s in range(len(starts)):\n",
    "        start_idx = starts[s]\n",
    "\n",
    "        if memoization ==0:\n",
    "            maxval_idx =  divmos[start_idx:].index(max(divmos[start_idx:]))+start_idx # 짤라서 index를 찾았으니 다시 전체에서 인덱스를 찾기위해 짜른만큼의 값을 더해준다 , 봤을 때는 이해 못하지만(내가 안해봤으니) 내가 고민하고 짜보면 이해가 된다\n",
    "            start_dict[start_idx] = maxval_idx\n",
    "            memoization = maxval_idx\n",
    "        else : # 시간 줄이기\n",
    "            if start_idx <= memoization:\n",
    "                start_dict[start_idx] = memoization\n",
    "            else:\n",
    "                maxval_idx =  divmos[start_idx:].index(max(divmos[start_idx:]))+start_idx # 짤라서 index를 찾았으니 다시 전체에서 인덱스를 찾기위해 짜른만큼의 값을 더해준다 , 봤을 때는 이해 못하지만(내가 안해봤으니) 내가 고민하고 짜보면 이해가 된다\n",
    "                start_dict[start_idx] = maxval_idx\n",
    "    for s in starts:\n",
    "        answer.append(start_dict.get(s))\n",
    "\n",
    "    return answer\n"
   ],
   "metadata": {
    "collapsed": false
   }
  }
 ],
 "metadata": {
  "kernelspec": {
   "display_name": "Python 3",
   "language": "python",
   "name": "python3"
  },
  "language_info": {
   "codemirror_mode": {
    "name": "ipython",
    "version": 2
   },
   "file_extension": ".py",
   "mimetype": "text/x-python",
   "name": "python",
   "nbconvert_exporter": "python",
   "pygments_lexer": "ipython2",
   "version": "2.7.6"
  }
 },
 "nbformat": 4,
 "nbformat_minor": 0
}
