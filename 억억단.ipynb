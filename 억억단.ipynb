{
 "cells": [
  {
   "cell_type": "code",
   "execution_count": null,
   "metadata": {
    "collapsed": true
   },
   "outputs": [],
   "source": [
    "for i in reversed(range(0, 8)):\n",
    "    print(i)\n",
    "e = 8\n",
    "ans = []\n",
    "ans = [0] * (e + 1)\n",
    "ans[e] = e\n",
    "ans\n",
    "arr = [1] * (e + 1)\n",
    "arr\n",
    "\n",
    "ans[e] = e\n",
    "for i in reversed(range(0, e)):\n",
    "    if arr[i] >= arr[ans[i + 1]]:\n",
    "        ans[i] = i\n",
    "    else:\n",
    "        ans[i] = ans[i + 1]\n",
    "return [ans[i] for i in starts]\n",
    "# 이해가 안가는 코드는 놓친 단 한줄이 있는 지  꼼꼼히 쳐보면서라도 확인하기\n",
    "for i in reversed(range(0, e)):\n",
    "    ㅁ\n",
    "    print(i)\n",
    "# 최대값을 그 전과 비교하면서 줄여나가기\n",
    "if arr[i] >= arr[ans[i + 1]]:\n",
    "    ans[i] = i\n",
    "else:\n",
    "    ans[i] = ans[i + 1]"
   ]
  },
  {
   "cell_type": "code",
   "execution_count": null,
   "outputs": [],
   "source": [],
   "metadata": {
    "collapsed": false
   }
  },
  {
   "cell_type": "code",
   "execution_count": null,
   "outputs": [],
   "source": [
    "\n",
    "def solution(e, starts):\n",
    "    arr = [1]*(e+1)\n",
    "    ans = [0]*(e+1)\n",
    "    i = 2\n",
    "    for i in range(2,e+1):\n",
    "        for j in range(i*2,e+1,i):\n",
    "            arr[j] += 1\n",
    "    ans[e] = e\n",
    "    for i in reversed(range(0,e)):\n",
    "        if arr[i] >= arr[ans[i+1]]:\n",
    "            ans[i] = i\n",
    "        else:\n",
    "            ans[i] = ans[i+1]\n",
    "    return [ans[i] for i in starts]"
   ],
   "metadata": {
    "collapsed": false
   }
  },
  {
   "cell_type": "code",
   "execution_count": null,
   "outputs": [],
   "source": [],
   "metadata": {
    "collapsed": false
   }
  },
  {
   "cell_type": "code",
   "execution_count": 1,
   "outputs": [],
   "source": [
    "# 엄청나게 대수롭게 여기지는 않는 정신적 행위로 자존감 높여가기\n",
    "#\n",
    "def solution(e, starts):\n",
    "    divmos = [ 1 for e in range(e)]\n",
    "    answer = []\n",
    "    for i in range(2,e+1):\n",
    "        for j in range(i,e+1,i):\n",
    "            divmos[j] += 1\n",
    "    start_dict = {}\n",
    "    memoization =0\n",
    "    for s in range(len(starts)):\n",
    "        start_idx = starts[s]\n",
    "\n",
    "        if memoization ==0:\n",
    "            maxval_idx =  divmos[start_idx:].index(max(divmos[start_idx:]))+start_idx # 짤라서 index를 찾았으니 다시 전체에서 인덱스를 찾기위해 짜른만큼의 값을 더해준다 , 봤을 때는 이해 못하지만(내가 안해봤으니) 내가 고민하고 짜보면 이해가 된다\n",
    "            start_dict[start_idx] = maxval_idx\n",
    "            memoization = maxval_idx\n",
    "        else : # 시간 줄이기\n",
    "            if start_idx <= memoization:\n",
    "                start_dict[start_idx] = memoization\n",
    "            else:\n",
    "                maxval_idx =  divmos[start_idx:].index(max(divmos[start_idx:]))+start_idx # 짤라서 index를 찾았으니 다시 전체에서 인덱스를 찾기위해 짜른만큼의 값을 더해준다 , 봤을 때는 이해 못하지만(내가 안해봤으니) 내가 고민하고 짜보면 이해가 된다\n",
    "                start_dict[start_idx] = maxval_idx\n",
    "    for s in starts:\n",
    "        answer.append(start_dict.get(s))\n",
    "\n",
    "    return answer\n",
    "# Feedback -> 대 작 전 대 청소 처럼 생각하고 해내고 고치기 평생 이거를 단 한번도 못고쳤다는 소리 듣지 않도록\n",
    "# 생각하지 못한 아이디어 :문제 보고\n",
    "# 대칭되는 구구단 배열이므로 1부터 시작하면 더하는 수를 2씩 더하거나 , 전체default 값을 1을주고\n",
    "# 1을 더하는 방식으로 해나간다는 것 파악하기 ,\n",
    "# 구구단을 진행시키면서, 500만 구구단은 할 수 있는 범위였다는 것을 판단 ,\n",
    "# memoization 값 변수 선언하기(memoization) , 전체 cnt를 기억할 배열 생성 및 구구단(divmos) 정량적, 정성적 지표가 만나는 지점을 공략할수있도록 부단히 노력하기\n",
    "# 나머지는 하나하나 진행시키면서 최대값 어떻게 뽑을지, (max) 인덱싱 어떻게할지, 원래배열에서 어떻게 찾을지 (+start_idx)\n",
    " # 이런 식으로 나머지는 줄코딩 가능\n",
    " # 나이가들어서그런가 점점 덜 찐따처럼 넘기게 된다\n",
    "\n"
   ],
   "metadata": {
    "collapsed": false
   }
  },
  {
   "cell_type": "code",
   "execution_count": null,
   "outputs": [],
   "source": [],
   "metadata": {
    "collapsed": false
   }
  }
 ],
 "metadata": {
  "kernelspec": {
   "display_name": "Python 3",
   "language": "python",
   "name": "python3"
  },
  "language_info": {
   "codemirror_mode": {
    "name": "ipython",
    "version": 2
   },
   "file_extension": ".py",
   "mimetype": "text/x-python",
   "name": "python",
   "nbconvert_exporter": "python",
   "pygments_lexer": "ipython2",
   "version": "2.7.6"
  }
 },
 "nbformat": 4,
 "nbformat_minor": 0
}
