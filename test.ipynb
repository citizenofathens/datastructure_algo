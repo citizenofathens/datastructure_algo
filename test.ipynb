{
 "cells": [
  {
   "cell_type": "code",
   "execution_count": 2,
   "metadata": {
    "collapsed": true
   },
   "outputs": [],
   "source": [
    "board =\t['CCBDE', 'AAADE', 'AAABF', 'CCBBF']"
   ]
  },
  {
   "cell_type": "code",
   "execution_count": 5,
   "outputs": [
    {
     "data": {
      "text/plain": "[['C', 'A', 'A', 'C'],\n ['C', 'A', 'A', 'C'],\n ['B', 'A', 'A', 'B'],\n ['D', 'D', 'B', 'B'],\n ['E', 'E', 'F', 'F']]"
     },
     "execution_count": 5,
     "metadata": {},
     "output_type": "execute_result"
    }
   ],
   "source": [
    "# *은 압축을 해제 한다 요소별로 , 압축해제한후 list를 적용함\n",
    "#"
   ],
   "metadata": {
    "collapsed": false,
    "pycharm": {
     "name": "#%%\n"
    }
   }
  },
  {
   "cell_type": "code",
   "execution_count": null,
   "outputs": [],
   "source": [
    "list(map(list,zip(*board)))"
   ],
   "metadata": {
    "collapsed": false,
    "pycharm": {
     "name": "#%%\n"
    }
   }
  },
  {
   "cell_type": "code",
   "execution_count": null,
   "outputs": [],
   "source": [],
   "metadata": {
    "collapsed": false,
    "pycharm": {
     "name": "#%%\n"
    }
   }
  },
  {
   "cell_type": "code",
   "execution_count": null,
   "outputs": [],
   "source": [],
   "metadata": {
    "collapsed": false,
    "pycharm": {
     "name": "#%%\n"
    }
   }
  },
  {
   "cell_type": "code",
   "execution_count": 10,
   "outputs": [
    {
     "data": {
      "text/plain": "[['CCBDE'], ['AAADE'], ['AAABF'], ['CCBBF']]"
     },
     "execution_count": 10,
     "metadata": {},
     "output_type": "execute_result"
    }
   ],
   "source": [
    "list(map(list,zip(board)))"
   ],
   "metadata": {
    "collapsed": false,
    "pycharm": {
     "name": "#%%\n"
    }
   }
  },
  {
   "cell_type": "code",
   "execution_count": 9,
   "outputs": [
    {
     "data": {
      "text/plain": "['CCBDE', 'AAADE', 'AAABF', 'CCBBF']"
     },
     "execution_count": 9,
     "metadata": {},
     "output_type": "execute_result"
    }
   ],
   "source": [
    "board"
   ],
   "metadata": {
    "collapsed": false,
    "pycharm": {
     "name": "#%%\n"
    }
   }
  },
  {
   "cell_type": "code",
   "execution_count": 1,
   "outputs": [],
   "source": [
    "\n",
    "triangle = [[7], [3, 8], [8, 1, 0], [2, 7, 4, 4], [4, 5, 2, 6, 5]]"
   ],
   "metadata": {
    "collapsed": false,
    "pycharm": {
     "name": "#%%\n"
    }
   }
  },
  {
   "cell_type": "code",
   "execution_count": 4,
   "outputs": [
    {
     "data": {
      "text/plain": "3"
     },
     "execution_count": 4,
     "metadata": {},
     "output_type": "execute_result"
    }
   ],
   "source": [
    "triangle[1][0]"
   ],
   "metadata": {
    "collapsed": false,
    "pycharm": {
     "name": "#%%\n"
    }
   }
  },
  {
   "cell_type": "code",
   "execution_count": null,
   "outputs": [],
   "source": [
    "# 작업이 떨어져 있는 걸 고려하지 않은 케이스\n",
    "\n",
    "import heapq#\n",
    "# input의 길이가 1이상 500이하 n제곱 이하 시간복잡도면 풀이 가능\n",
    "# 작업 수행 하고 있지 않을때는 먼저 요청 부터\n",
    "\n",
    "def solution(jobs):\n",
    "    # ms 시점에서  작업 중이면 처리하지 않는다\n",
    "    # 총 처리시간을 줄이는게 아니라 요청부터  종료까지의 시간을 줄이는 것\n",
    "    #\n",
    "    # 작업시간이 긴 게 중간에  껴있으면 짧은 작업 프로세스도\n",
    "    # 그 긴 작업시간 만큼을 고스란히 기다려서 평균이 늘어나니까,\n",
    "    # 짧은 것부터 처리한다\n",
    "    # 그럴려면 최소 힙큐에 작업 시간을 기준으로 힙큐에 넣고 ,\n",
    "    # 프로세스를 처리하면서 시작가능했던 시간부터 종료 시간을 계산한다\n",
    "    waits = []\n",
    "    # 작업 '가능'한 상태가 되려면 시점을 지나면서 판단된다\n",
    "    answer,now  = 0,0\n",
    "    start = -1\n",
    "\n",
    "    for job in jobs:\n",
    "        #start_time , during_time = job[0],job[1]\n",
    "        #total_time += during_time\n",
    "        heapq.heappush(waits,(job[1],job[0]))\n",
    "    # 작업이 짧은 순서대로 출력\n",
    "    # 힙큐에서 빼낼 때 요청시간이 와도 우선은 대기 해야하고 처리가 가능한 것은  요청되는 작업의 요청시간이  현재 시점보다 이전이고 이전 시점의 완료시점보다는 커야한다\n",
    "\n",
    "     # 요청 시간간에 간격이 떨어져있을수도있다\n",
    "\n",
    "    while waits:\n",
    "        # 작업리스트에 아무 것도 없다면\n",
    "        # heappop은 작업실행을 뜻한다\n",
    "        during,request = heapq.heappop(waits)\n",
    "        # 작업을 실행한다\n",
    "        working = True\n",
    "        # 시작 지점은 작업의 시작지점이 되고\n",
    "        #start = request\n",
    "        # 현재 시점은 작업이 완료한 시점이 된다\n",
    "        start = now # 가 되고\n",
    "        # 현재 시점은 걸린 시간을 더해준다\n",
    "        now += during\n",
    "        # 정답에는 걸린 시간을 더해준다(x) interpreter는 dp같은 거니까\n",
    "        # 정답에는 위에서 더해져서 현재시점에서 요청시간을 빼준값을 더한다\n",
    "        #\n",
    "        answer += (now -request)\n",
    "    return int(answer/len(jobs))\n",
    "        # 그러면 현재시점은 3이고 작업시간이 짧은 순서대로 또 꺼내면\n",
    "        # 6이 나온다\n",
    "        # 걸린시간은\n",
    "        # j_start\n",
    "        #curr = 3\n",
    "        #start = 0\n",
    "        #\n",
    "\n",
    "#         if time == processing_list(during_time-start_time):\n",
    "#                 processing_list.pop()\n",
    "#                 process_list.pop()\n",
    "#                 processing_list.append()\n",
    "#                 answer.append(during_time-start_time)\n",
    "\n",
    "\n",
    "#         else:\n",
    "#             start_time, during_time = process_list.pop()\n",
    "#             processing_list.append(start_time,during_time)\n",
    "#             time+=1\n",
    "\n",
    "#     answer = 0\n",
    "#     return answer"
   ],
   "metadata": {
    "collapsed": false,
    "pycharm": {
     "name": "#%%\n"
    }
   }
  },
  {
   "cell_type": "code",
   "execution_count": null,
   "outputs": [],
   "source": [
    "# 작업이 떨어져있을수 있다는 걸 고려한 케이스\n",
    "\n",
    "import heapq#\n",
    "# input의 길이가 1이상 500이하 n제곱 이하 시간복잡도면 풀이 가능\n",
    "# 작업 수행 하고 있지 않을때는 먼저 요청 부터\n"
   ],
   "metadata": {
    "collapsed": false,
    "pycharm": {
     "name": "#%%\n"
    }
   }
  },
  {
   "cell_type": "code",
   "execution_count": 14,
   "outputs": [],
   "source": [
    "def solution(jobs):\n",
    "    # ms 시점에서  작업 중이면 처리하지 않는다\n",
    "    # 총 처리시간을 줄이는게 아니라 요청부터  종료까지의 시간을 줄이는 것\n",
    "    #\n",
    "    # 작업시간이 긴 게 중간에  껴있으면 짧은 작업 프로세스도\n",
    "    # 그 긴 작업시간 만큼을 고스란히 기다려서 평균이 늘어나니까,\n",
    "    # 짧은 것부터 처리한다\n",
    "    # 그럴려면 최소 힙큐에 작업 시간을 기준으로 힙큐에 넣고 ,\n",
    "    # 프로세스를 처리하면서 시작가능했던 시간부터 종료 시간을 계산한다\n",
    "    waits = []\n",
    "    # 작업 '가능'한 상태가 되려면 시점을 지나면서 판단된다\n",
    "    answer,now ,process_cnt  = 0,0,0\n",
    "    start = -1\n",
    "\n",
    "\n",
    "    # 작업이 짧은 순서대로 출력\n",
    "    # 힙큐에서 빼낼 때 요청시간이 와도 우선은 대기 해야하고 처리가 가능한 것은  요청되는 작업의 요청시간이  현재 시점보다 이전이고 이전 시점의 완료시점보다는 커야한다\n",
    "\n",
    "     # 요청 시간간에 간격이 떨어져있을수도있다\n",
    "\n",
    "    # 실제 작업 처리 개수\n",
    "    while process_cnt < len(jobs):\n",
    "\n",
    "\n",
    "        # 실제 작업량만큼 처리하지 못했으니 남은 작업을 다시 순회하며 체크한다\n",
    "        for job in jobs:\n",
    "            # 지금 처리가 가능한 상태인지 판단, now와는 같아도된다\n",
    "            if start < job[0] <= now:\n",
    "            #start_time , during_time = job[0],job[1]\n",
    "            #total_time += during_time\n",
    "                heapq.heappush(waits,(job[1],job[0]))\n",
    "        # 작업리스트에 아무 것도 없다면\n",
    "        # heappop은 작업실행을 뜻한다\n",
    "        print(waits)\n",
    "        # 실행할 작업이 있다며\n",
    "        if waits:\n",
    "            during,request = heapq.heappop(waits)\n",
    "            # 작업을 실행한다\n",
    "            working = True\n",
    "            # 시작 지점은 작업의 시작지점이 되고\n",
    "            #start = request\n",
    "            # 현재 시점은 작업이 완료한 시점이 된다\n",
    "            start = now # 가 되고\n",
    "            # 현재 시점은 걸린 시간을 더해준다\n",
    "            now += during\n",
    "            # 정답에는 걸린 시간을 더해준다(x) interpreter는 dp같은 거니까\n",
    "            # 정답에는 위에서 더해져서 현재시점에서 요청시간을 빼준값을 더한다\n",
    "            print(now-request)\n",
    "            answer += (now -request)\n",
    "            # 처리 개수 증가\n",
    "            process_cnt += 1\n",
    "        # 시점을 증가시켜나간다\n",
    "        else:\n",
    "            now+=1\n",
    "\n",
    "    return int(answer/len(jobs))\n",
    "        # 그러면 현재시점은 3이고 작업시간이 짧은 순서대로 또 꺼내면\n",
    "        # 6이 나온다\n",
    "        # 걸린시간은\n",
    "        # j_start\n",
    "        #curr = 3\n",
    "        #start = 0\n",
    "        #\n",
    "\n",
    "#         if time == processing_list(during_time-start_time):\n",
    "#                 processing_list.pop()\n",
    "#                 process_list.pop()\n",
    "#                 processing_list.append()\n",
    "#                 answer.append(during_time-start_time)\n",
    "\n",
    "\n",
    "#         else:\n",
    "#             start_time, during_time = process_list.pop()\n",
    "#             processing_list.append(start_time,during_time)\n",
    "#             time+=1\n",
    "\n",
    "#     answer = 0\n",
    "#     return answer"
   ],
   "metadata": {
    "collapsed": false,
    "pycharm": {
     "name": "#%%\n"
    }
   }
  },
  {
   "cell_type": "code",
   "execution_count": 15,
   "outputs": [],
   "source": [
    "import heapq"
   ],
   "metadata": {
    "collapsed": false,
    "pycharm": {
     "name": "#%%\n"
    }
   }
  },
  {
   "cell_type": "code",
   "execution_count": 16,
   "outputs": [
    {
     "name": "stdout",
     "output_type": "stream",
     "text": [
      "[]\n",
      "[(3, 1), (4, 1), (5, 1)]\n",
      "3\n",
      "[(4, 1), (5, 1)]\n",
      "7\n",
      "[(5, 1)]\n",
      "12\n"
     ]
    },
    {
     "data": {
      "text/plain": "7"
     },
     "execution_count": 16,
     "metadata": {},
     "output_type": "execute_result"
    }
   ],
   "source": [
    "solution([[1,3],[1,4],[1,5]])"
   ],
   "metadata": {
    "collapsed": false,
    "pycharm": {
     "name": "#%%\n"
    }
   }
  },
  {
   "cell_type": "code",
   "execution_count": 17,
   "outputs": [
    {
     "name": "stdout",
     "output_type": "stream",
     "text": [
      "[(3, 0)]\n",
      "3\n",
      "[(6, 2), (9, 1)]\n",
      "7\n",
      "[(9, 1)]\n",
      "17\n"
     ]
    },
    {
     "data": {
      "text/plain": "9"
     },
     "execution_count": 17,
     "metadata": {},
     "output_type": "execute_result"
    }
   ],
   "source": [
    "solution([[0, 3], [1, 9], [2, 6]])"
   ],
   "metadata": {
    "collapsed": false,
    "pycharm": {
     "name": "#%%\n"
    }
   }
  },
  {
   "cell_type": "code",
   "execution_count": 12,
   "outputs": [
    {
     "ename": "SyntaxError",
     "evalue": "invalid syntax (<ipython-input-12-e7cb213821e8>, line 1)",
     "output_type": "error",
     "traceback": [
      "\u001B[1;36m  File \u001B[1;32m\"<ipython-input-12-e7cb213821e8>\"\u001B[1;36m, line \u001B[1;32m1\u001B[0m\n\u001B[1;33m    1 3\u001B[0m\n\u001B[1;37m      ^\u001B[0m\n\u001B[1;31mSyntaxError\u001B[0m\u001B[1;31m:\u001B[0m invalid syntax\n"
     ]
    }
   ],
   "source": [
    "1 3\n",
    "1   4"
   ],
   "metadata": {
    "collapsed": false,
    "pycharm": {
     "name": "#%%\n"
    }
   }
  },
  {
   "cell_type": "code",
   "execution_count": null,
   "outputs": [],
   "source": [
    "1 3 4   - 2\n",
    "1   4    7 - 6\n",
    "1           12  11"
   ],
   "metadata": {
    "collapsed": false,
    "pycharm": {
     "name": "#%%\n"
    }
   }
  },
  {
   "cell_type": "code",
   "execution_count": 5,
   "outputs": [
    {
     "data": {
      "text/plain": "6"
     },
     "execution_count": 5,
     "metadata": {},
     "output_type": "execute_result"
    }
   ],
   "source": [
    "19//3"
   ],
   "metadata": {
    "collapsed": false,
    "pycharm": {
     "name": "#%%\n"
    }
   }
  },
  {
   "cell_type": "code",
   "execution_count": null,
   "outputs": [],
   "source": [
    "1,3 1,4 ,15\n",
    "//3"
   ],
   "metadata": {
    "collapsed": false,
    "pycharm": {
     "name": "#%%\n"
    }
   }
  }
 ],
 "metadata": {
  "kernelspec": {
   "display_name": "Python 3",
   "language": "python",
   "name": "python3"
  },
  "language_info": {
   "codemirror_mode": {
    "name": "ipython",
    "version": 2
   },
   "file_extension": ".py",
   "mimetype": "text/x-python",
   "name": "python",
   "nbconvert_exporter": "python",
   "pygments_lexer": "ipython2",
   "version": "2.7.6"
  }
 },
 "nbformat": 4,
 "nbformat_minor": 0
}